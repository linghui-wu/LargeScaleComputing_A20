{
 "cells": [
  {
   "cell_type": "markdown",
   "metadata": {},
   "source": [
    "# Lab 6: Exploratory Data Analysis and Machine Learning in an EMR Notebook\n",
    "\n",
    "Today, we'll explore how you can use your PySpark coding skills in an [EMR Notebook](https://docs.aws.amazon.com/emr/latest/ManagementGuide/emr-managed-notebooks.html) on AWS. Specifically, we'll be working with all of the customer reviews for books in [Amazon's large customer reviews dataset on S3](https://s3.amazonaws.com/amazon-reviews-pds/readme.html). Note that this notebook is meant to be run on an EMR cluster, using a PySpark kernel, as demonstrated in the Lab video.\n",
    "\n",
    "First, let's load the customer book reviews data from S3 into our Spark session. The books data is spread across multiple parquet files (as we can see via the AWS CLI below), so we use the wildcard (\\*) to indicate that we want the data from all of these files to be included within our dataframe, spread out over our EMR cluster in partitions."
   ]
  },
  {
   "cell_type": "code",
   "execution_count": 1,
   "metadata": {},
   "outputs": [
    {
     "data": {
      "application/vnd.jupyter.widget-view+json": {
       "model_id": "d5d4be72f6f54efea06f7c36b90df65c",
       "version_major": 2,
       "version_minor": 0
      },
      "text/plain": [
       "VBox()"
      ]
     },
     "metadata": {},
     "output_type": "display_data"
    },
    {
     "name": "stdout",
     "output_type": "stream",
     "text": [
      "Starting Spark application\n"
     ]
    },
    {
     "data": {
      "text/html": [
       "<table>\n",
       "<tr><th>ID</th><th>YARN Application ID</th><th>Kind</th><th>State</th><th>Spark UI</th><th>Driver log</th><th>Current session?</th></tr><tr><td>2</td><td>application_1606541055656_0003</td><td>pyspark</td><td>idle</td><td><a target=\"_blank\" href=\"http://ip-172-31-20-30.ec2.internal:20888/proxy/application_1606541055656_0003/\">Link</a></td><td><a target=\"_blank\" href=\"http://ip-172-31-26-5.ec2.internal:8042/node/containerlogs/container_1606541055656_0003_01_000001/livy\">Link</a></td><td>✔</td></tr></table>"
      ],
      "text/plain": [
       "<IPython.core.display.HTML object>"
      ]
     },
     "metadata": {},
     "output_type": "display_data"
    },
    {
     "data": {
      "application/vnd.jupyter.widget-view+json": {
       "model_id": "",
       "version_major": 2,
       "version_minor": 0
      },
      "text/plain": [
       "FloatProgress(value=0.0, bar_style='info', description='Progress:', layout=Layout(height='25px', width='50%'),…"
      ]
     },
     "metadata": {},
     "output_type": "display_data"
    },
    {
     "name": "stdout",
     "output_type": "stream",
     "text": [
      "SparkSession available as 'spark'.\n"
     ]
    },
    {
     "data": {
      "application/vnd.jupyter.widget-view+json": {
       "model_id": "",
       "version_major": 2,
       "version_minor": 0
      },
      "text/plain": [
       "FloatProgress(value=0.0, bar_style='info', description='Progress:', layout=Layout(height='25px', width='50%'),…"
      ]
     },
     "metadata": {},
     "output_type": "display_data"
    }
   ],
   "source": [
    "# %%bash \n",
    "# aws s3 ls s3://amazon-reviews-pds/parquet/product_category=Books/ --summarize --human-readable"
   ]
  },
  {
   "cell_type": "code",
   "execution_count": 2,
   "metadata": {},
   "outputs": [
    {
     "data": {
      "application/vnd.jupyter.widget-view+json": {
       "model_id": "b638f62bf59f4107b15008141d2043a9",
       "version_major": 2,
       "version_minor": 0
      },
      "text/plain": [
       "VBox()"
      ]
     },
     "metadata": {},
     "output_type": "display_data"
    },
    {
     "data": {
      "application/vnd.jupyter.widget-view+json": {
       "model_id": "",
       "version_major": 2,
       "version_minor": 0
      },
      "text/plain": [
       "FloatProgress(value=0.0, bar_style='info', description='Progress:', layout=Layout(height='25px', width='50%'),…"
      ]
     },
     "metadata": {},
     "output_type": "display_data"
    },
    {
     "name": "stdout",
     "output_type": "stream",
     "text": [
      "Collecting boto3\n",
      "  Using cached https://files.pythonhosted.org/packages/59/7f/4ade91fbb684c6f28a6e56028d9f9d2de4297761850d083579779f07c0de/boto3-1.16.25-py2.py3-none-any.whl\n",
      "Requirement already satisfied: jmespath<1.0.0,>=0.7.1 in /usr/local/lib/python3.7/site-packages (from boto3)\n",
      "Collecting botocore<1.20.0,>=1.19.25 (from boto3)\n",
      "  Using cached https://files.pythonhosted.org/packages/ef/d5/c0c33ca15e31062220ac5964f3492409eaf90a5cf5399503cd8264f2f8e9/botocore-1.19.25-py2.py3-none-any.whl\n",
      "Collecting s3transfer<0.4.0,>=0.3.0 (from boto3)\n",
      "  Using cached https://files.pythonhosted.org/packages/69/79/e6afb3d8b0b4e96cefbdc690f741d7dd24547ff1f94240c997a26fa908d3/s3transfer-0.3.3-py2.py3-none-any.whl\n",
      "Collecting python-dateutil<3.0.0,>=2.1 (from botocore<1.20.0,>=1.19.25->boto3)\n",
      "  Using cached https://files.pythonhosted.org/packages/d4/70/d60450c3dd48ef87586924207ae8907090de0b306af2bce5d134d78615cb/python_dateutil-2.8.1-py2.py3-none-any.whl\n",
      "Collecting urllib3<1.27,>=1.25.4; python_version != \"3.4\" (from botocore<1.20.0,>=1.19.25->boto3)\n",
      "  Using cached https://files.pythonhosted.org/packages/f5/71/45d36a8df68f3ebb098d6861b2c017f3d094538c0fb98fa61d4dc43e69b9/urllib3-1.26.2-py2.py3-none-any.whl\n",
      "Requirement already satisfied: six>=1.5 in /usr/local/lib/python3.7/site-packages (from python-dateutil<3.0.0,>=2.1->botocore<1.20.0,>=1.19.25->boto3)\n",
      "Installing collected packages: python-dateutil, urllib3, botocore, s3transfer, boto3\n",
      "Successfully installed boto3-1.16.25 botocore-1.19.25 python-dateutil-2.8.1 s3transfer-0.3.3 urllib3-1.26.2"
     ]
    }
   ],
   "source": [
    "from pyspark import SparkContext\n",
    "sc = SparkContext.getOrCreate()\n",
    "sc.install_pypi_package(\"boto3\")"
   ]
  },
  {
   "cell_type": "code",
   "execution_count": 3,
   "metadata": {},
   "outputs": [
    {
     "data": {
      "application/vnd.jupyter.widget-view+json": {
       "model_id": "36825c92d9ae4b06814790b1eec4df90",
       "version_major": 2,
       "version_minor": 0
      },
      "text/plain": [
       "VBox()"
      ]
     },
     "metadata": {},
     "output_type": "display_data"
    },
    {
     "data": {
      "application/vnd.jupyter.widget-view+json": {
       "model_id": "",
       "version_major": 2,
       "version_minor": 0
      },
      "text/plain": [
       "FloatProgress(value=0.0, bar_style='info', description='Progress:', layout=Layout(height='25px', width='50%'),…"
      ]
     },
     "metadata": {},
     "output_type": "display_data"
    },
    {
     "name": "stdout",
     "output_type": "stream",
     "text": [
      "2018-04-09 06:35:58+00:00 \t 1 GB\t parquet/product_category=Books/part-00000-495c48e6-96d6-4650-aa65-3c36a3516ddd.c000.snappy.parquet \n",
      "\n",
      "2018-04-09 06:35:59+00:00 \t 1 GB\t parquet/product_category=Books/part-00001-495c48e6-96d6-4650-aa65-3c36a3516ddd.c000.snappy.parquet \n",
      "\n",
      "2018-04-09 06:36:00+00:00 \t 1 GB\t parquet/product_category=Books/part-00002-495c48e6-96d6-4650-aa65-3c36a3516ddd.c000.snappy.parquet \n",
      "\n",
      "2018-04-09 06:36:00+00:00 \t 1 GB\t parquet/product_category=Books/part-00003-495c48e6-96d6-4650-aa65-3c36a3516ddd.c000.snappy.parquet \n",
      "\n",
      "2018-04-09 06:36:00+00:00 \t 1 GB\t parquet/product_category=Books/part-00004-495c48e6-96d6-4650-aa65-3c36a3516ddd.c000.snappy.parquet \n",
      "\n",
      "2018-04-09 06:36:33+00:00 \t 1 GB\t parquet/product_category=Books/part-00005-495c48e6-96d6-4650-aa65-3c36a3516ddd.c000.snappy.parquet \n",
      "\n",
      "2018-04-09 06:36:35+00:00 \t 1 GB\t parquet/product_category=Books/part-00006-495c48e6-96d6-4650-aa65-3c36a3516ddd.c000.snappy.parquet \n",
      "\n",
      "2018-04-09 06:36:35+00:00 \t 1 GB\t parquet/product_category=Books/part-00007-495c48e6-96d6-4650-aa65-3c36a3516ddd.c000.snappy.parquet \n",
      "\n",
      "2018-04-09 06:36:35+00:00 \t 1 GB\t parquet/product_category=Books/part-00008-495c48e6-96d6-4650-aa65-3c36a3516ddd.c000.snappy.parquet \n",
      "\n",
      "2018-04-09 06:36:35+00:00 \t 1 GB\t parquet/product_category=Books/part-00009-495c48e6-96d6-4650-aa65-3c36a3516ddd.c000.snappy.parquet"
     ]
    }
   ],
   "source": [
    "import boto3\n",
    "\n",
    "s3 = boto3.resource('s3')\n",
    "bucket = 'amazon-reviews-pds'\n",
    "bucket_resource = s3.Bucket(bucket)\n",
    "\n",
    "for obj in bucket_resource.objects.all():\n",
    "    if 'parquet' in obj.key and 'Books' in obj.key:\n",
    "        print(obj.last_modified,\"\\t\", round(obj.size * 1e-9), \"GB\\t\",\n",
    "              obj.key, \"\\n\")"
   ]
  },
  {
   "cell_type": "code",
   "execution_count": 4,
   "metadata": {},
   "outputs": [
    {
     "data": {
      "application/vnd.jupyter.widget-view+json": {
       "model_id": "844465dec806420ba2a6128e94b8de99",
       "version_major": 2,
       "version_minor": 0
      },
      "text/plain": [
       "VBox()"
      ]
     },
     "metadata": {},
     "output_type": "display_data"
    },
    {
     "data": {
      "application/vnd.jupyter.widget-view+json": {
       "model_id": "",
       "version_major": 2,
       "version_minor": 0
      },
      "text/plain": [
       "FloatProgress(value=0.0, bar_style='info', description='Progress:', layout=Layout(height='25px', width='50%'),…"
      ]
     },
     "metadata": {},
     "output_type": "display_data"
    }
   ],
   "source": [
    "data = spark.read.parquet('s3://amazon-reviews-pds/parquet/product_category=Books/*.parquet')"
   ]
  },
  {
   "cell_type": "code",
   "execution_count": 5,
   "metadata": {},
   "outputs": [
    {
     "data": {
      "application/vnd.jupyter.widget-view+json": {
       "model_id": "c180e7b48cac438e90c1408ac98261d0",
       "version_major": 2,
       "version_minor": 0
      },
      "text/plain": [
       "VBox()"
      ]
     },
     "metadata": {},
     "output_type": "display_data"
    },
    {
     "data": {
      "application/vnd.jupyter.widget-view+json": {
       "model_id": "",
       "version_major": 2,
       "version_minor": 0
      },
      "text/plain": [
       "FloatProgress(value=0.0, bar_style='info', description='Progress:', layout=Layout(height='25px', width='50%'),…"
      ]
     },
     "metadata": {},
     "output_type": "display_data"
    },
    {
     "name": "stdout",
     "output_type": "stream",
     "text": [
      "<class 'pyspark.sql.dataframe.DataFrame'>"
     ]
    }
   ],
   "source": [
    "print(type(data))"
   ]
  },
  {
   "cell_type": "markdown",
   "metadata": {},
   "source": [
    "Now that we have our data loaded in a DataFrame, let's take a look at its structure and contents. We can see that there is a lot of data here (10 GB worth!), even in this small subset of the overall (~50 GB) Amazon Customer Reviews dataset."
   ]
  },
  {
   "cell_type": "code",
   "execution_count": 6,
   "metadata": {},
   "outputs": [
    {
     "data": {
      "application/vnd.jupyter.widget-view+json": {
       "model_id": "ff5dcff1306e4660b970dd9406751968",
       "version_major": 2,
       "version_minor": 0
      },
      "text/plain": [
       "VBox()"
      ]
     },
     "metadata": {},
     "output_type": "display_data"
    },
    {
     "data": {
      "application/vnd.jupyter.widget-view+json": {
       "model_id": "",
       "version_major": 2,
       "version_minor": 0
      },
      "text/plain": [
       "FloatProgress(value=0.0, bar_style='info', description='Progress:', layout=Layout(height='25px', width='50%'),…"
      ]
     },
     "metadata": {},
     "output_type": "display_data"
    },
    {
     "name": "stdout",
     "output_type": "stream",
     "text": [
      "Total Columns: 15\n",
      "Total Rows: 20726160\n",
      "root\n",
      " |-- marketplace: string (nullable = true)\n",
      " |-- customer_id: string (nullable = true)\n",
      " |-- review_id: string (nullable = true)\n",
      " |-- product_id: string (nullable = true)\n",
      " |-- product_parent: string (nullable = true)\n",
      " |-- product_title: string (nullable = true)\n",
      " |-- star_rating: integer (nullable = true)\n",
      " |-- helpful_votes: integer (nullable = true)\n",
      " |-- total_votes: integer (nullable = true)\n",
      " |-- vine: string (nullable = true)\n",
      " |-- verified_purchase: string (nullable = true)\n",
      " |-- review_headline: string (nullable = true)\n",
      " |-- review_body: string (nullable = true)\n",
      " |-- review_date: date (nullable = true)\n",
      " |-- year: integer (nullable = true)"
     ]
    }
   ],
   "source": [
    "print('Total Columns: %d' % len(data.dtypes))\n",
    "print('Total Rows: %d' % data.count())\n",
    "data.printSchema()"
   ]
  },
  {
   "cell_type": "markdown",
   "metadata": {},
   "source": [
    "We can take a look at (preview) data from all of our columns at once (using `data.show()`), but this is a bit busy on the screen, so let's select a subset of the columns and take a look at the first 20 rows of our data."
   ]
  },
  {
   "cell_type": "code",
   "execution_count": 7,
   "metadata": {},
   "outputs": [
    {
     "data": {
      "application/vnd.jupyter.widget-view+json": {
       "model_id": "95b72977941147fba1d7b2c7f3270ccd",
       "version_major": 2,
       "version_minor": 0
      },
      "text/plain": [
       "VBox()"
      ]
     },
     "metadata": {},
     "output_type": "display_data"
    },
    {
     "data": {
      "application/vnd.jupyter.widget-view+json": {
       "model_id": "",
       "version_major": 2,
       "version_minor": 0
      },
      "text/plain": [
       "FloatProgress(value=0.0, bar_style='info', description='Progress:', layout=Layout(height='25px', width='50%'),…"
      ]
     },
     "metadata": {},
     "output_type": "display_data"
    },
    {
     "name": "stdout",
     "output_type": "stream",
     "text": [
      "+--------------------+-----------+-----------+\n",
      "|       product_title|total_votes|star_rating|\n",
      "+--------------------+-----------+-----------+\n",
      "|Standing Qigong f...|         10|          5|\n",
      "|A Universe from N...|          7|          4|\n",
      "|Hyacinth Girls: A...|          0|          4|\n",
      "|        Bared to You|          1|          5|\n",
      "|     Healer: A Novel|          0|          5|\n",
      "|The Missionary Po...|          7|          4|\n",
      "|I'm Tired of Bein...|          1|          4|\n",
      "|Fifty Shades of G...|          7|          1|\n",
      "|The Thrill of Vic...|          0|          4|\n",
      "|Fifty Shades of G...|          9|          5|\n",
      "|Romeo and Juliet ...|          0|          4|\n",
      "|Wheat Belly: Lose...|          1|          5|\n",
      "|Dangerous Dessert...|          0|          5|\n",
      "|Consciousness Bey...|          0|          5|\n",
      "|The Catcher in th...|          6|          1|\n",
      "|Fearless: The Und...|          0|          4|\n",
      "|Best-Ever Big Sister|          0|          5|\n",
      "|      The Book Thief|          1|          5|\n",
      "|  Large Print Sudoku|          1|          5|\n",
      "|Wild: From Lost t...|          1|          5|\n",
      "+--------------------+-----------+-----------+\n",
      "only showing top 20 rows"
     ]
    }
   ],
   "source": [
    "data[['product_title', 'total_votes', 'star_rating']].show()"
   ]
  },
  {
   "cell_type": "markdown",
   "metadata": {},
   "source": [
    "Using PySpark, we can calculate any number of additional summary statistics using standard SQL-like operations on our DataFrame."
   ]
  },
  {
   "cell_type": "code",
   "execution_count": 8,
   "metadata": {},
   "outputs": [
    {
     "data": {
      "application/vnd.jupyter.widget-view+json": {
       "model_id": "6de213c64b0241498a1f5015cff3a409",
       "version_major": 2,
       "version_minor": 0
      },
      "text/plain": [
       "VBox()"
      ]
     },
     "metadata": {},
     "output_type": "display_data"
    },
    {
     "data": {
      "application/vnd.jupyter.widget-view+json": {
       "model_id": "",
       "version_major": 2,
       "version_minor": 0
      },
      "text/plain": [
       "FloatProgress(value=0.0, bar_style='info', description='Progress:', layout=Layout(height='25px', width='50%'),…"
      ]
     },
     "metadata": {},
     "output_type": "display_data"
    },
    {
     "name": "stdout",
     "output_type": "stream",
     "text": [
      "+-----------+----------------+------------------+\n",
      "|star_rating|sum(total_votes)|sum(helpful_votes)|\n",
      "+-----------+----------------+------------------+\n",
      "|          5|        54808322|          44825468|\n",
      "|          4|        13954363|          11100563|\n",
      "|          3|        10117356|           7021927|\n",
      "|          2|         9010874|           5581929|\n",
      "|          1|        22624009|          10985502|\n",
      "+-----------+----------------+------------------+"
     ]
    }
   ],
   "source": [
    "stars_votes = (data.groupBy('star_rating')\n",
    "                  .sum('total_votes', 'helpful_votes')\n",
    "                  .sort('star_rating', ascending=False)\n",
    "              )\n",
    "stars_votes.show()"
   ]
  },
  {
   "cell_type": "markdown",
   "metadata": {},
   "source": [
    "We can even plot the results of our summarizations using standard Python packages like Pandas and Seaborn. To do so within an EMR notebook, we will need to install these packages. If we list the packages currently available to us in our SparkContext, you can see that these packages are not already installed, so we will need to install them."
   ]
  },
  {
   "cell_type": "code",
   "execution_count": 9,
   "metadata": {},
   "outputs": [
    {
     "data": {
      "application/vnd.jupyter.widget-view+json": {
       "model_id": "1d65b6b90f4f4483abb69dcfda33a381",
       "version_major": 2,
       "version_minor": 0
      },
      "text/plain": [
       "VBox()"
      ]
     },
     "metadata": {},
     "output_type": "display_data"
    },
    {
     "data": {
      "application/vnd.jupyter.widget-view+json": {
       "model_id": "",
       "version_major": 2,
       "version_minor": 0
      },
      "text/plain": [
       "FloatProgress(value=0.0, bar_style='info', description='Progress:', layout=Layout(height='25px', width='50%'),…"
      ]
     },
     "metadata": {},
     "output_type": "display_data"
    },
    {
     "name": "stdout",
     "output_type": "stream",
     "text": [
      "Package                    Version  \n",
      "-------------------------- ---------\n",
      "beautifulsoup4             4.9.1    \n",
      "boto                       2.49.0   \n",
      "boto3                      1.16.25  \n",
      "botocore                   1.19.25  \n",
      "click                      7.1.2    \n",
      "jmespath                   0.10.0   \n",
      "joblib                     0.16.0   \n",
      "lxml                       4.5.2    \n",
      "mysqlclient                1.4.2    \n",
      "nltk                       3.5      \n",
      "nose                       1.3.4    \n",
      "numpy                      1.16.5   \n",
      "pip                        9.0.1    \n",
      "py-dateutil                2.2      \n",
      "python-dateutil            2.8.1    \n",
      "python37-sagemaker-pyspark 1.4.0    \n",
      "pytz                       2020.1   \n",
      "PyYAML                     5.3.1    \n",
      "regex                      2020.7.14\n",
      "s3transfer                 0.3.3    \n",
      "setuptools                 28.8.0   \n",
      "six                        1.13.0   \n",
      "soupsieve                  1.9.5    \n",
      "tqdm                       4.48.2   \n",
      "urllib3                    1.26.2   \n",
      "wheel                      0.29.0   \n",
      "windmill                   1.6"
     ]
    }
   ],
   "source": [
    "sc.list_packages()"
   ]
  },
  {
   "cell_type": "code",
   "execution_count": 10,
   "metadata": {},
   "outputs": [
    {
     "data": {
      "application/vnd.jupyter.widget-view+json": {
       "model_id": "1142c9e75e30415eaa6bd49b3517478e",
       "version_major": 2,
       "version_minor": 0
      },
      "text/plain": [
       "VBox()"
      ]
     },
     "metadata": {},
     "output_type": "display_data"
    },
    {
     "data": {
      "application/vnd.jupyter.widget-view+json": {
       "model_id": "",
       "version_major": 2,
       "version_minor": 0
      },
      "text/plain": [
       "FloatProgress(value=0.0, bar_style='info', description='Progress:', layout=Layout(height='25px', width='50%'),…"
      ]
     },
     "metadata": {},
     "output_type": "display_data"
    },
    {
     "name": "stdout",
     "output_type": "stream",
     "text": [
      "Collecting seaborn\n",
      "  Downloading https://files.pythonhosted.org/packages/bc/45/5118a05b0d61173e6eb12bc5804f0fbb6f196adb0a20e0b16efc2b8e98be/seaborn-0.11.0-py3-none-any.whl (283kB)\n",
      "Requirement already satisfied: numpy>=1.15 in /usr/local/lib64/python3.7/site-packages (from seaborn)\n",
      "Collecting scipy>=1.0 (from seaborn)\n",
      "  Downloading https://files.pythonhosted.org/packages/dc/7e/8f6a79b102ca1ea928bae8998b05bf5dc24a90571db13cd119f275ba6252/scipy-1.5.4-cp37-cp37m-manylinux1_x86_64.whl (25.9MB)\n",
      "Collecting matplotlib>=2.2 (from seaborn)\n",
      "  Downloading https://files.pythonhosted.org/packages/30/f2/10c822cb0ca5ebec58bd1892187bc3e3db64a867ac26531c6204663fc218/matplotlib-3.3.3-cp37-cp37m-manylinux1_x86_64.whl (11.6MB)\n",
      "Collecting pandas>=0.23 (from seaborn)\n",
      "  Downloading https://files.pythonhosted.org/packages/bf/4c/cb7da76f3a5e077e545f9cf8575b8f488a4e8ad60490838f89c5cdd5bb57/pandas-1.1.4-cp37-cp37m-manylinux1_x86_64.whl (9.5MB)\n",
      "Requirement already satisfied: python-dateutil>=2.1 in /mnt/tmp/1606542656753-0/lib/python3.7/site-packages (from matplotlib>=2.2->seaborn)\n",
      "Collecting pyparsing!=2.0.4,!=2.1.2,!=2.1.6,>=2.0.3 (from matplotlib>=2.2->seaborn)\n",
      "  Downloading https://files.pythonhosted.org/packages/8a/bb/488841f56197b13700afd5658fc279a2025a39e22449b7cf29864669b15d/pyparsing-2.4.7-py2.py3-none-any.whl (67kB)\n",
      "Collecting pillow>=6.2.0 (from matplotlib>=2.2->seaborn)\n",
      "  Downloading https://files.pythonhosted.org/packages/af/fa/c1302a26d5e1a17fa8e10e43417b6cf038b0648c4b79fcf2302a4a0c5d30/Pillow-8.0.1-cp37-cp37m-manylinux1_x86_64.whl (2.2MB)\n",
      "Collecting cycler>=0.10 (from matplotlib>=2.2->seaborn)\n",
      "  Downloading https://files.pythonhosted.org/packages/f7/d2/e07d3ebb2bd7af696440ce7e754c59dd546ffe1bbe732c8ab68b9c834e61/cycler-0.10.0-py2.py3-none-any.whl\n",
      "Collecting kiwisolver>=1.0.1 (from matplotlib>=2.2->seaborn)\n",
      "  Downloading https://files.pythonhosted.org/packages/d2/46/231de802ade4225b76b96cffe419cf3ce52bbe92e3b092cf12db7d11c207/kiwisolver-1.3.1-cp37-cp37m-manylinux1_x86_64.whl (1.1MB)\n",
      "Requirement already satisfied: pytz>=2017.2 in /usr/local/lib/python3.7/site-packages (from pandas>=0.23->seaborn)\n",
      "Requirement already satisfied: six>=1.5 in /usr/local/lib/python3.7/site-packages (from python-dateutil>=2.1->matplotlib>=2.2->seaborn)\n",
      "Installing collected packages: scipy, pyparsing, pillow, cycler, kiwisolver, matplotlib, pandas, seaborn\n",
      "Successfully installed cycler-0.10.0 kiwisolver-1.3.1 matplotlib-3.3.3 pandas-1.1.4 pillow-8.0.1 pyparsing-2.4.7 scipy-1.5.4 seaborn-0.11.0\n",
      "\n",
      "Requirement already satisfied: pandas in /mnt/tmp/1606542656753-0/lib/python3.7/site-packages\n",
      "Requirement already satisfied: numpy>=1.15.4 in /usr/local/lib64/python3.7/site-packages (from pandas)\n",
      "Requirement already satisfied: pytz>=2017.2 in /usr/local/lib/python3.7/site-packages (from pandas)\n",
      "Requirement already satisfied: python-dateutil>=2.7.3 in /mnt/tmp/1606542656753-0/lib/python3.7/site-packages (from pandas)\n",
      "Requirement already satisfied: six>=1.5 in /usr/local/lib/python3.7/site-packages (from python-dateutil>=2.7.3->pandas)"
     ]
    }
   ],
   "source": [
    "sc.install_pypi_package(\"seaborn\")\n",
    "sc.install_pypi_package(\"pandas\")"
   ]
  },
  {
   "cell_type": "code",
   "execution_count": 11,
   "metadata": {},
   "outputs": [
    {
     "data": {
      "application/vnd.jupyter.widget-view+json": {
       "model_id": "82c830ab1fc846e3b5632bb49496c172",
       "version_major": 2,
       "version_minor": 0
      },
      "text/plain": [
       "VBox()"
      ]
     },
     "metadata": {},
     "output_type": "display_data"
    },
    {
     "data": {
      "application/vnd.jupyter.widget-view+json": {
       "model_id": "",
       "version_major": 2,
       "version_minor": 0
      },
      "text/plain": [
       "FloatProgress(value=0.0, bar_style='info', description='Progress:', layout=Layout(height='25px', width='50%'),…"
      ]
     },
     "metadata": {},
     "output_type": "display_data"
    },
    {
     "name": "stdout",
     "output_type": "stream",
     "text": [
      "Package                    Version  \n",
      "-------------------------- ---------\n",
      "beautifulsoup4             4.9.1    \n",
      "boto                       2.49.0   \n",
      "boto3                      1.16.25  \n",
      "botocore                   1.19.25  \n",
      "click                      7.1.2    \n",
      "cycler                     0.10.0   \n",
      "jmespath                   0.10.0   \n",
      "joblib                     0.16.0   \n",
      "kiwisolver                 1.3.1    \n",
      "lxml                       4.5.2    \n",
      "matplotlib                 3.3.3    \n",
      "mysqlclient                1.4.2    \n",
      "nltk                       3.5      \n",
      "nose                       1.3.4    \n",
      "numpy                      1.16.5   \n",
      "pandas                     1.1.4    \n",
      "Pillow                     8.0.1    \n",
      "pip                        9.0.1    \n",
      "py-dateutil                2.2      \n",
      "pyparsing                  2.4.7    \n",
      "python-dateutil            2.8.1    \n",
      "python37-sagemaker-pyspark 1.4.0    \n",
      "pytz                       2020.1   \n",
      "PyYAML                     5.3.1    \n",
      "regex                      2020.7.14\n",
      "s3transfer                 0.3.3    \n",
      "scipy                      1.5.4    \n",
      "seaborn                    0.11.0   \n",
      "setuptools                 28.8.0   \n",
      "six                        1.13.0   \n",
      "soupsieve                  1.9.5    \n",
      "tqdm                       4.48.2   \n",
      "urllib3                    1.26.2   \n",
      "wheel                      0.29.0   \n",
      "windmill                   1.6"
     ]
    }
   ],
   "source": [
    "sc.list_packages()"
   ]
  },
  {
   "cell_type": "markdown",
   "metadata": {},
   "source": [
    "Now that our packages have been successfully installed, let's plot some of our data. Note, though, that because our data is so large, we do not want to send all of it into a Pandas DataFrame -- we want to take advantage of the distributed nature of our Spark DataFrame to perform any computations and then send only small segments of our data into Pandas and our plotting libraries, so that they will be able to handle it in-memory. Here, we use the `toPandas()` method to only send the small dataframe that summarizes the total number of votes for each star rating -- all of the computation was done on the Spark DataFrame.\n",
    "\n",
    "It looks like 5 star reviews had a lot more \"helpful\" votes than all of the other star ratings."
   ]
  },
  {
   "cell_type": "code",
   "execution_count": 12,
   "metadata": {},
   "outputs": [
    {
     "data": {
      "application/vnd.jupyter.widget-view+json": {
       "model_id": "22437497acc743ab94815c274fd274e8",
       "version_major": 2,
       "version_minor": 0
      },
      "text/plain": [
       "VBox()"
      ]
     },
     "metadata": {},
     "output_type": "display_data"
    },
    {
     "data": {
      "application/vnd.jupyter.widget-view+json": {
       "model_id": "",
       "version_major": 2,
       "version_minor": 0
      },
      "text/plain": [
       "FloatProgress(value=0.0, bar_style='info', description='Progress:', layout=Layout(height='25px', width='50%'),…"
      ]
     },
     "metadata": {},
     "output_type": "display_data"
    },
    {
     "data": {
      "image/png": "[encoded data removed]",
      "text/plain": [
       "<IPython.core.display.Image object>"
      ]
     },
     "metadata": {},
     "output_type": "display_data"
    }
   ],
   "source": [
    "import seaborn as sns\n",
    "import matplotlib.pyplot as plt\n",
    "\n",
    "df = stars_votes.toPandas()\n",
    "\n",
    "# Close previous plots; otherwise, will just overwrite and display again\n",
    "plt.close()\n",
    "\n",
    "sns.barplot(x='star_rating', y='sum(helpful_votes)', data=df)\n",
    "%matplot plt  # Particularity of EMR notebook"
   ]
  },
  {
   "cell_type": "markdown",
   "metadata": {},
   "source": [
    "Given the order of magnitude difference in 5-star helpful votes, we might wonder whether there are simply more 5 star reviews than other star counts. It seems like there are indeed a lot more 5-star ratings than anything else."
   ]
  },
  {
   "cell_type": "code",
   "execution_count": 13,
   "metadata": {},
   "outputs": [
    {
     "data": {
      "application/vnd.jupyter.widget-view+json": {
       "model_id": "85a69467d48b40cc9e828306418883ab",
       "version_major": 2,
       "version_minor": 0
      },
      "text/plain": [
       "VBox()"
      ]
     },
     "metadata": {},
     "output_type": "display_data"
    },
    {
     "data": {
      "application/vnd.jupyter.widget-view+json": {
       "model_id": "",
       "version_major": 2,
       "version_minor": 0
      },
      "text/plain": [
       "FloatProgress(value=0.0, bar_style='info', description='Progress:', layout=Layout(height='25px', width='50%'),…"
      ]
     },
     "metadata": {},
     "output_type": "display_data"
    },
    {
     "name": "stdout",
     "output_type": "stream",
     "text": [
      "+-----------+--------+\n",
      "|star_rating|   count|\n",
      "+-----------+--------+\n",
      "|          5|13662131|\n",
      "|          4| 3546319|\n",
      "|          3| 1543611|\n",
      "|          2|  861867|\n",
      "|          1| 1112232|\n",
      "+-----------+--------+"
     ]
    }
   ],
   "source": [
    "stars = (data.groupBy('star_rating')\n",
    "             .count()\n",
    "             .sort('star_rating', ascending=False)\n",
    "        )\n",
    "stars.show()\n",
    "# Heavily unbalanced dataset"
   ]
  },
  {
   "cell_type": "markdown",
   "metadata": {},
   "source": [
    "We can also take a random sample of our distributed dataset and send that sample to Pandas in order to plot it and get a sense of what it looks like. For instance, we can produce a scatter plot of a limited subset of our data using this strategy."
   ]
  },
  {
   "cell_type": "code",
   "execution_count": 14,
   "metadata": {},
   "outputs": [
    {
     "data": {
      "application/vnd.jupyter.widget-view+json": {
       "model_id": "203b633849d442deac3fa6efb7de7670",
       "version_major": 2,
       "version_minor": 0
      },
      "text/plain": [
       "VBox()"
      ]
     },
     "metadata": {},
     "output_type": "display_data"
    },
    {
     "data": {
      "application/vnd.jupyter.widget-view+json": {
       "model_id": "",
       "version_major": 2,
       "version_minor": 0
      },
      "text/plain": [
       "FloatProgress(value=0.0, bar_style='info', description='Progress:', layout=Layout(height='25px', width='50%'),…"
      ]
     },
     "metadata": {},
     "output_type": "display_data"
    },
    {
     "data": {
      "image/png": "[encoded data removed]",
      "text/plain": [
       "<IPython.core.display.Image object>"
      ]
     },
     "metadata": {},
     "output_type": "display_data"
    }
   ],
   "source": [
    "# Close previous plots; otherwise, will just overwrite and display again\n",
    "plt.close()\n",
    "\n",
    "sampled_df = data.sample(fraction=0.0001).toPandas()\n",
    "sampled_df.plot.scatter('helpful_votes', 'total_votes')\n",
    "%matplot plt"
   ]
  },
  {
   "cell_type": "markdown",
   "metadata": {},
   "source": [
    "## Fitting a Machine Learning Model to Predict whether a Rating will be Good or Bad\n",
    "\n",
    "Once we've explored our data, let's say that we want to fit a Machine Learning model to predict a review's star rating based on other features about the review. Here, let's fit a simple (and extremely naive, for the sake of demonstration) model that predicts whether or a customer review will have a \"good\" star rating (>= 4) or a \"bad\" star rating (<4) based on the total number of votes a review receives. In your homework, you will improve upon this model, engineering other features from the dataset, as well as doing a better job of balancing the data (see below -- there are a lot more \"good\" star-ratings than \"bad\" ones) and setting up a reproducible machine learning pipeline.\n",
    "\n",
    "First, let's create a column that indicates whether a review is good or bad. We'll use this column as labels for machine learning. "
   ]
  },
  {
   "cell_type": "code",
   "execution_count": 15,
   "metadata": {},
   "outputs": [
    {
     "data": {
      "application/vnd.jupyter.widget-view+json": {
       "model_id": "e956a18a5da843dba3abf01ea5219109",
       "version_major": 2,
       "version_minor": 0
      },
      "text/plain": [
       "VBox()"
      ]
     },
     "metadata": {},
     "output_type": "display_data"
    },
    {
     "data": {
      "application/vnd.jupyter.widget-view+json": {
       "model_id": "",
       "version_major": 2,
       "version_minor": 0
      },
      "text/plain": [
       "FloatProgress(value=0.0, bar_style='info', description='Progress:', layout=Layout(height='25px', width='50%'),…"
      ]
     },
     "metadata": {},
     "output_type": "display_data"
    },
    {
     "name": "stdout",
     "output_type": "stream",
     "text": [
      "+-----------+-----------+\n",
      "|star_rating|good_review|\n",
      "+-----------+-----------+\n",
      "|          5|          1|\n",
      "|          4|          1|\n",
      "|          4|          1|\n",
      "|          5|          1|\n",
      "|          5|          1|\n",
      "+-----------+-----------+\n",
      "only showing top 5 rows\n",
      "\n",
      "+-----------+--------+\n",
      "|good_review|   count|\n",
      "+-----------+--------+\n",
      "|          1|17208450|\n",
      "|          0| 3517710|\n",
      "+-----------+--------+"
     ]
    }
   ],
   "source": [
    "# Good == 1, Bad == 0 (cast as integers so that pyspark.ml can understand them)\n",
    "data = data.withColumn('good_review', (data.star_rating >= 4).cast(\"integer\"))\n",
    "\n",
    "# Check to make sure new column is capturing star_rating correctly\n",
    "data[['star_rating', 'good_review']].show(5)\n",
    "\n",
    "# Take a look at how many good and bad reviews we have, respectively\n",
    "(data.groupBy('good_review')\n",
    "     .count()\n",
    "     .show()\n",
    ")"
   ]
  },
  {
   "cell_type": "markdown",
   "metadata": {},
   "source": [
    "Then, let's use the `VectorAssembler` to get our total_votes feature into a form that `pyspark.ml` expects it to be in."
   ]
  },
  {
   "cell_type": "code",
   "execution_count": 16,
   "metadata": {},
   "outputs": [
    {
     "data": {
      "application/vnd.jupyter.widget-view+json": {
       "model_id": "4e189db1885f43e4b2c2a7d1763f4b29",
       "version_major": 2,
       "version_minor": 0
      },
      "text/plain": [
       "VBox()"
      ]
     },
     "metadata": {},
     "output_type": "display_data"
    },
    {
     "data": {
      "application/vnd.jupyter.widget-view+json": {
       "model_id": "",
       "version_major": 2,
       "version_minor": 0
      },
      "text/plain": [
       "FloatProgress(value=0.0, bar_style='info', description='Progress:', layout=Layout(height='25px', width='50%'),…"
      ]
     },
     "metadata": {},
     "output_type": "display_data"
    },
    {
     "name": "stdout",
     "output_type": "stream",
     "text": [
      "+-----------+-----------+--------+\n",
      "|good_review|total_votes|features|\n",
      "+-----------+-----------+--------+\n",
      "|          1|         10|  [10.0]|\n",
      "|          1|          7|   [7.0]|\n",
      "|          1|          0|   [0.0]|\n",
      "|          1|          1|   [1.0]|\n",
      "|          1|          0|   [0.0]|\n",
      "|          1|          7|   [7.0]|\n",
      "|          1|          1|   [1.0]|\n",
      "|          0|          7|   [7.0]|\n",
      "|          1|          0|   [0.0]|\n",
      "|          1|          9|   [9.0]|\n",
      "|          1|          0|   [0.0]|\n",
      "|          1|          1|   [1.0]|\n",
      "|          1|          0|   [0.0]|\n",
      "|          1|          0|   [0.0]|\n",
      "|          0|          6|   [6.0]|\n",
      "|          1|          0|   [0.0]|\n",
      "|          1|          0|   [0.0]|\n",
      "|          1|          1|   [1.0]|\n",
      "|          1|          1|   [1.0]|\n",
      "|          1|          1|   [1.0]|\n",
      "+-----------+-----------+--------+\n",
      "only showing top 20 rows"
     ]
    }
   ],
   "source": [
    "from pyspark.ml.feature import VectorAssembler\n",
    "\n",
    "features = ['total_votes']\n",
    "assembler = VectorAssembler(inputCols=features, outputCol='features')\n",
    "\n",
    "data = assembler.transform(data)\n",
    "data[['good_review', 'total_votes', 'features']].show()"
   ]
  },
  {
   "cell_type": "markdown",
   "metadata": {},
   "source": [
    "Then, we split up our data into training and test data and train a logistic regression model on our training data."
   ]
  },
  {
   "cell_type": "code",
   "execution_count": 17,
   "metadata": {},
   "outputs": [
    {
     "data": {
      "application/vnd.jupyter.widget-view+json": {
       "model_id": "7a8e03aab25349a0964ddf7a024dace5",
       "version_major": 2,
       "version_minor": 0
      },
      "text/plain": [
       "VBox()"
      ]
     },
     "metadata": {},
     "output_type": "display_data"
    },
    {
     "data": {
      "application/vnd.jupyter.widget-view+json": {
       "model_id": "",
       "version_major": 2,
       "version_minor": 0
      },
      "text/plain": [
       "FloatProgress(value=0.0, bar_style='info', description='Progress:', layout=Layout(height='25px', width='50%'),…"
      ]
     },
     "metadata": {},
     "output_type": "display_data"
    }
   ],
   "source": [
    "from pyspark.ml.classification import LogisticRegression\n",
    "\n",
    "train, test = data.randomSplit([0.7, 0.3])\n",
    "\n",
    "lr = LogisticRegression(featuresCol='features', labelCol='good_review')\n",
    "model = lr.fit(train)"
   ]
  },
  {
   "cell_type": "markdown",
   "metadata": {},
   "source": [
    "And, finally, we can make predictions for our test data and see how good our model is. Note that our predictive accuracy is not bad overall. However, from our \"false positive rate by label\" metric, we can see that our model is essentially just predicting that most reviews will be \"good\" reviews (label 1) -- likely because of our highly unbalanced data. Accordingly, you'll notice that our AUC is only barely above .5 (see ROC Curve below). In Assignment 3, it'll be your job to try to improve this model, so that we can better distinguish good from bad customer reviews."
   ]
  },
  {
   "cell_type": "code",
   "execution_count": 18,
   "metadata": {},
   "outputs": [
    {
     "data": {
      "application/vnd.jupyter.widget-view+json": {
       "model_id": "caefe350bb55471a9c89fe0d65c8057d",
       "version_major": 2,
       "version_minor": 0
      },
      "text/plain": [
       "VBox()"
      ]
     },
     "metadata": {},
     "output_type": "display_data"
    },
    {
     "data": {
      "application/vnd.jupyter.widget-view+json": {
       "model_id": "",
       "version_major": 2,
       "version_minor": 0
      },
      "text/plain": [
       "FloatProgress(value=0.0, bar_style='info', description='Progress:', layout=Layout(height='25px', width='50%'),…"
      ]
     },
     "metadata": {},
     "output_type": "display_data"
    }
   ],
   "source": [
    "# Training Summary Data\n",
    "trainingSummary = model.summary\n",
    "evaluationSummary = model.evaluate(test)"
   ]
  },
  {
   "cell_type": "code",
   "execution_count": 19,
   "metadata": {},
   "outputs": [
    {
     "data": {
      "application/vnd.jupyter.widget-view+json": {
       "model_id": "bc7387965c0048e1bd8a818e9bf69ee2",
       "version_major": 2,
       "version_minor": 0
      },
      "text/plain": [
       "VBox()"
      ]
     },
     "metadata": {},
     "output_type": "display_data"
    },
    {
     "data": {
      "application/vnd.jupyter.widget-view+json": {
       "model_id": "",
       "version_major": 2,
       "version_minor": 0
      },
      "text/plain": [
       "FloatProgress(value=0.0, bar_style='info', description='Progress:', layout=Layout(height='25px', width='50%'),…"
      ]
     },
     "metadata": {},
     "output_type": "display_data"
    },
    {
     "name": "stdout",
     "output_type": "stream",
     "text": [
      "Training AUC: 0.5758064767509607\n",
      "Test AUC:  0.5911212466029788\n",
      "\n",
      "False positive rate by label (Training):\n",
      "label 0: 0.004868631555594081\n",
      "label 1: 0.9754200567982427\n",
      "\n",
      "True positive rate by label (Training):\n",
      "label 0: 0.024579943201757236\n",
      "label 1: 0.995131368444406\n",
      "\n",
      "Training Accuracy: 0.8304020630524827\n",
      "Test Accuracy:  0.830356723720941"
     ]
    }
   ],
   "source": [
    "print(\"Training AUC: \" + str(trainingSummary.areaUnderROC))\n",
    "print(\"Test AUC: \", str(evaluationSummary.areaUnderROC))\n",
    "\n",
    "print(\"\\nFalse positive rate by label (Training):\")\n",
    "for i, rate in enumerate(trainingSummary.falsePositiveRateByLabel):\n",
    "    print(\"label %d: %s\" % (i, rate))\n",
    "\n",
    "print(\"\\nTrue positive rate by label (Training):\")\n",
    "for i, rate in enumerate(trainingSummary.truePositiveRateByLabel):\n",
    "    print(\"label %d: %s\" % (i, rate))\n",
    "    \n",
    "print(\"\\nTraining Accuracy: \" + str(trainingSummary.accuracy))\n",
    "print(\"Test Accuracy: \", str(evaluationSummary.accuracy))"
   ]
  },
  {
   "cell_type": "code",
   "execution_count": 20,
   "metadata": {},
   "outputs": [
    {
     "data": {
      "application/vnd.jupyter.widget-view+json": {
       "model_id": "07dd59aa7f8e4b48ab9c0231e73cc6a5",
       "version_major": 2,
       "version_minor": 0
      },
      "text/plain": [
       "VBox()"
      ]
     },
     "metadata": {},
     "output_type": "display_data"
    },
    {
     "data": {
      "application/vnd.jupyter.widget-view+json": {
       "model_id": "",
       "version_major": 2,
       "version_minor": 0
      },
      "text/plain": [
       "FloatProgress(value=0.0, bar_style='info', description='Progress:', layout=Layout(height='25px', width='50%'),…"
      ]
     },
     "metadata": {},
     "output_type": "display_data"
    }
   ],
   "source": [
    "# Get ROC curve and send it to Pandas so that we can plot it\n",
    "roc_df = evaluationSummary.roc.toPandas()"
   ]
  },
  {
   "cell_type": "code",
   "execution_count": 21,
   "metadata": {},
   "outputs": [
    {
     "data": {
      "application/vnd.jupyter.widget-view+json": {
       "model_id": "e572581969f646d4928db0d322a6f220",
       "version_major": 2,
       "version_minor": 0
      },
      "text/plain": [
       "VBox()"
      ]
     },
     "metadata": {},
     "output_type": "display_data"
    },
    {
     "data": {
      "application/vnd.jupyter.widget-view+json": {
       "model_id": "",
       "version_major": 2,
       "version_minor": 0
      },
      "text/plain": [
       "FloatProgress(value=0.0, bar_style='info', description='Progress:', layout=Layout(height='25px', width='50%'),…"
      ]
     },
     "metadata": {},
     "output_type": "display_data"
    },
    {
     "data": {
      "image/png": "[encoded data removed]",
      "text/plain": [
       "<IPython.core.display.Image object>"
      ]
     },
     "metadata": {},
     "output_type": "display_data"
    }
   ],
   "source": [
    "# Close previous plots; otherwise, will just overwrite and display again\n",
    "plt.close()\n",
    "\n",
    "plt.plot(roc_df.FPR, roc_df.TPR, 'b', label = 'AUC = %0.2f' % evaluationSummary.areaUnderROC)\n",
    "plt.legend(loc = 'lower right')\n",
    "plt.plot([0, 1], [0, 1],'r--')\n",
    "plt.xlim([0, 1])\n",
    "plt.ylim([0, 1])\n",
    "plt.ylabel('True Positive Rate')\n",
    "plt.xlabel('False Positive Rate')\n",
    "plt.title('ROC Curve')\n",
    "plt.show()\n",
    "\n",
    "%matplot plt"
   ]
  }
 ],
 "metadata": {
  "kernelspec": {
   "display_name": "PySpark",
   "language": "",
   "name": "pysparkkernel"
  },
  "language_info": {
   "codemirror_mode": {
    "name": "python",
    "version": 2
   },
   "mimetype": "text/x-python",
   "name": "pyspark",
   "pygments_lexer": "python2"
  }
 },
 "nbformat": 4,
 "nbformat_minor": 4
}
