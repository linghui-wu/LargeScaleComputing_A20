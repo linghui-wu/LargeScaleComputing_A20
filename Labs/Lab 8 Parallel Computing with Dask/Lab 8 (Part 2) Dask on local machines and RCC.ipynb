{
 "cells": [
  {
   "cell_type": "markdown",
   "metadata": {},
   "source": [
    "# Lab 8: Cluster Computing in Dask with RCC and AWS"
   ]
  },
  {
   "cell_type": "markdown",
   "metadata": {},
   "source": [
    "## A Quick Start of Using Dask Locally"
   ]
  },
  {
   "cell_type": "markdown",
   "metadata": {},
   "source": [
    "Today we are going to learn about [**Dask**](https://dask.org/), a powerful and comprehensive cluster computing library in python. To install\n",
    "dask on your local machine, just run the following command:\n",
    "\n",
    "`python -m pip install \"dask[complete]\"`"
   ]
  },
  {
   "cell_type": "markdown",
   "metadata": {},
   "source": [
    "It is recommended to use the \"complete\" syntax here, which would automatically install all the core packages in dask. Besides, when running on the RCC system, where the python environment is managed by anaconda, it is highly recommended to create a virtual environment to hold dask. You can either run `conda install dask` or the command above to install dask in your conda environment.\n",
    "\n",
    "To use dask on a local single machine (e.g., your laptop), there is nothing else to install. You could simply run the following commands to start a local cluster:"
   ]
  },
  {
   "cell_type": "code",
   "execution_count": 1,
   "metadata": {
    "collapsed": true,
    "jupyter": {
     "outputs_hidden": true
    }
   },
   "outputs": [
    {
     "name": "stderr",
     "output_type": "stream",
     "text": [
      "F:\\Anaconda3\\lib\\site-packages\\dask\\config.py:168: YAMLLoadWarning: calling yaml.load() without Loader=... is deprecated, as the default Loader is unsafe. Please read https://msg.pyyaml.org/load for full details.\n",
      "  data = yaml.load(f.read()) or {}\n",
      "F:\\Anaconda3\\lib\\site-packages\\distributed\\config.py:20: YAMLLoadWarning: calling yaml.load() without Loader=... is deprecated, as the default Loader is unsafe. Please read https://msg.pyyaml.org/load for full details.\n",
      "  defaults = yaml.load(f)\n"
     ]
    }
   ],
   "source": [
    "from dask.distributed import Client,LocalCluster\n",
    "cluster = LocalCluster()"
   ]
  },
  {
   "cell_type": "markdown",
   "metadata": {},
   "source": [
    "In a local cluster, the default number of processes started equals to the number of cpus on the local machine. To adjust the number of workers (processes) in dask, you can use the scale method as below."
   ]
  },
  {
   "cell_type": "code",
   "execution_count": 8,
   "metadata": {},
   "outputs": [],
   "source": [
    "cluster.scale(4) #your number of processes"
   ]
  },
  {
   "cell_type": "markdown",
   "metadata": {},
   "source": [
    "Dask provides users with a convenient interface to monitor the usage and status of the workers in the cluster. To open the monitor, you just need to type `localhost:8787` after launching the cluster. 8787 is the default port number for the diagonastic server, you can also customize the port number by specifying the `dashboard_address` argument when setting up the cluster. More options to customize the local cluster configuration could be found [here](https://docs.dask.org/en/latest/setup/single-distributed.html).\n",
    "\n",
    "\n",
    "<img src=\"./dask_worker monitor.png\">"
   ]
  },
  {
   "cell_type": "markdown",
   "metadata": {},
   "source": [
    "To use the resources in the cluster, we need a scheduler to coordinate the operation and storage of the data, and this is why the client object in dask comes into being. The client object provides some functions similar to pool.map (map) and pool.apply (submit) in python multiprocessing, and also functions analogous to the scatter and gather methods in MPI4PY to handle large iterable objects and collect map results. Below it's a simple example of how to use these methods in dask, and all the data operation methods and data types, which we would mention in a moment, can all be used in the same way once the cluster is configured properly, no matter on a single machine or in a multi-node system (RCC) or a cloud computing platform (AWS)."
   ]
  },
  {
   "cell_type": "code",
   "execution_count": 5,
   "metadata": {},
   "outputs": [],
   "source": [
    "client = Client(cluster)\n",
    "def digit_sum(x):\n",
    "    string = str(x)\n",
    "    return sum([int(c) for c in string])"
   ]
  },
  {
   "cell_type": "code",
   "execution_count": 18,
   "metadata": {},
   "outputs": [
    {
     "data": {
      "text/plain": [
       "10"
      ]
     },
     "execution_count": 18,
     "metadata": {},
     "output_type": "execute_result"
    }
   ],
   "source": [
    "import numpy as np\n",
    "\n",
    "# submit single jobs and get the result\n",
    "result_future = client.submit(digit_sum,1234)\n",
    "result_future.result()"
   ]
  },
  {
   "cell_type": "code",
   "execution_count": 24,
   "metadata": {},
   "outputs": [
    {
     "data": {
      "text/plain": [
       "[26, 28, 41, 49, 41, 26, 29, 41, 48, 35]"
      ]
     },
     "execution_count": 24,
     "metadata": {},
     "output_type": "execute_result"
    }
   ],
   "source": [
    "# submit map jobs and get the result\n",
    "results_future = client.map(digit_sum, np.random.randint(1e+8,1e+9,int(1e+4)))\n",
    "results = client.gather(results_future)\n",
    "results[:10]"
   ]
  },
  {
   "cell_type": "markdown",
   "metadata": {},
   "source": [
    "Alternatively, we can firstly scatter the data before mapping, this is useful when elements in the iterable are large. This generally works for python built-in iterables like list, tuple, set and dictionaries. For numpy arrays, please use client.map directly or dask.array to parallelize."
   ]
  },
  {
   "cell_type": "code",
   "execution_count": 62,
   "metadata": {
    "collapsed": true,
    "jupyter": {
     "outputs_hidden": true
    }
   },
   "outputs": [
    {
     "data": {
      "text/plain": [
       "{0: <Future: status: finished, type: int32, key: 0>,\n",
       " 1: <Future: status: finished, type: int32, key: 1>,\n",
       " 2: <Future: status: finished, type: int32, key: 2>,\n",
       " 3: <Future: status: finished, type: int32, key: 3>,\n",
       " 4: <Future: status: finished, type: int32, key: 4>,\n",
       " 5: <Future: status: finished, type: int32, key: 5>,\n",
       " 6: <Future: status: finished, type: int32, key: 6>,\n",
       " 7: <Future: status: finished, type: int32, key: 7>,\n",
       " 8: <Future: status: finished, type: int32, key: 8>,\n",
       " 9: <Future: status: finished, type: int32, key: 9>,\n",
       " 10: <Future: status: finished, type: int32, key: 10>,\n",
       " 11: <Future: status: finished, type: int32, key: 11>,\n",
       " 12: <Future: status: finished, type: int32, key: 12>,\n",
       " 13: <Future: status: finished, type: int32, key: 13>,\n",
       " 14: <Future: status: finished, type: int32, key: 14>,\n",
       " 15: <Future: status: finished, type: int32, key: 15>,\n",
       " 16: <Future: status: finished, type: int32, key: 16>,\n",
       " 17: <Future: status: finished, type: int32, key: 17>,\n",
       " 18: <Future: status: finished, type: int32, key: 18>,\n",
       " 19: <Future: status: finished, type: int32, key: 19>}"
      ]
     },
     "execution_count": 62,
     "metadata": {},
     "output_type": "execute_result"
    }
   ],
   "source": [
    "data_future = client.scatter({x:y for x,y in enumerate(np.random.randint(1e+8,1e+9,20))})\n",
    "data_future"
   ]
  },
  {
   "cell_type": "code",
   "execution_count": 66,
   "metadata": {},
   "outputs": [
    {
     "data": {
      "text/plain": [
       "[46, 37, 37, 49, 23, 34, 56, 46, 54, 65]"
      ]
     },
     "execution_count": 66,
     "metadata": {},
     "output_type": "execute_result"
    }
   ],
   "source": [
    "results_future = client.map(digit_sum, data_future.values())\n",
    "results = client.gather(results_future)\n",
    "results[:10]"
   ]
  },
  {
   "cell_type": "markdown",
   "metadata": {},
   "source": [
    "From this example, you see that dask would not directly send back the computation result but store them in the future objects instead. Future objects are stored in the shared memory for each processes. An advantage of this mechanism is that it can avoid unnecessary communications between processes, which cost extra time. This design is suitable for build up process pipelines, where we would have one or more intermediate results to pass through the whole process. That is to say, you can pass the intermediate data to another client.map function for further computation without the effort to manually send the data from local process to the shared memory.     "
   ]
  },
  {
   "cell_type": "markdown",
   "metadata": {},
   "source": [
    "Dask also provides interface for users to check the address, status, etc. of individual workers in code by defining the Nanny object. To check this, call cluster.workers and its affliated functions  "
   ]
  },
  {
   "cell_type": "code",
   "execution_count": 21,
   "metadata": {},
   "outputs": [
    {
     "data": {
      "text/plain": [
       "[<Nanny: tcp://127.0.0.1:65199, threads: 1>,\n",
       " <Nanny: tcp://127.0.0.1:65138, threads: 1>,\n",
       " <Nanny: tcp://127.0.0.1:65141, threads: 1>,\n",
       " <Nanny: tcp://127.0.0.1:65151, threads: 1>]"
      ]
     },
     "execution_count": 21,
     "metadata": {},
     "output_type": "execute_result"
    }
   ],
   "source": [
    "cluster.workers"
   ]
  },
  {
   "cell_type": "code",
   "execution_count": 22,
   "metadata": {},
   "outputs": [
    {
     "data": {
      "text/plain": [
       "['running', 'running', 'running', 'running']"
      ]
     },
     "execution_count": 22,
     "metadata": {},
     "output_type": "execute_result"
    }
   ],
   "source": [
    "[x.status for x in cluster.workers]"
   ]
  },
  {
   "cell_type": "markdown",
   "metadata": {},
   "source": [
    "To restart (this means killing all currently running jobs and cleaning the memory) run the following, the restarted worker could have a different address:"
   ]
  },
  {
   "cell_type": "code",
   "execution_count": 15,
   "metadata": {},
   "outputs": [
    {
     "data": {
      "text/plain": [
       "<Future pending cb=[coroutine.<locals>.wrapper.<locals>.<lambda>() at F:\\Anaconda3\\lib\\site-packages\\tornado\\gen.py:226]>"
      ]
     },
     "execution_count": 15,
     "metadata": {},
     "output_type": "execute_result"
    }
   ],
   "source": [
    "worker_index = 0\n",
    "cluster.workers[worker_index].restart(timeout=10)"
   ]
  },
  {
   "cell_type": "markdown",
   "metadata": {},
   "source": [
    "To restart the cluster, use `client.restart()`. To shut down the local cluster, use `cluster.close()`. You do not have to manually shut down the client session since it would end as long as the python kernel is terminated. "
   ]
  },
  {
   "cell_type": "markdown",
   "metadata": {},
   "source": [
    "## Running Dask in RCC"
   ]
  },
  {
   "cell_type": "markdown",
   "metadata": {},
   "source": [
    "In the following tutorial, we are going to use the same datasets in the spark session to get you familiar with using dask in a multi-node cluster computing environment, the RCC system. And we would still use the example of classifying the ratings of books to show the details of deploying dask in machine learning tasks.\n",
    "\n",
    "Ideally, we should be able to read the product review dataset from Amazon S3 using [dask.read_parquet](https://docs.dask.org/en/latest/dataframe-api.html?highlight=read_parquet#dask.dataframe.read_parquet). However, the RCC system is designed to block Internet connection on the compute nodes, which would be used as components of our Dask cluster. So we are unable to use Dask to parallelly read the external datasets from S3 on RCC. To make it work, we have manually downloaded the book review datasets to the directory of our class resource on RCC ('/project2/macs30123/'), and we can read the data \"locally\" on RCC now.  "
   ]
  },
  {
   "cell_type": "markdown",
   "metadata": {},
   "source": [
    "To use the nodes of RCC with dask, we need to install both dask and dask-jobqueue modules in our conda environment as follow. The [dask-jobqueue](https://jobqueue.dask.org/en/latest/) is used to deploy dask on common job queuing systems like PBS (used in SSD acropolis) and Slurm (used in RCC). It allows us to automatically generate sbatch scripts and directly submit them to the job manager system interactively in jupyter notebook.  "
   ]
  },
  {
   "cell_type": "code",
   "execution_count": 2,
   "metadata": {
    "collapsed": true,
    "jupyter": {
     "outputs_hidden": true
    }
   },
   "outputs": [
    {
     "name": "stdout",
     "output_type": "stream",
     "text": [
      "Requirement already up-to-date: dask[complete] in /home/cytwill/.conda/envs/github_env/lib/python3.8/site-packages (2.30.0)\n",
      "Requirement already up-to-date: dask-jobqueue in /home/cytwill/.conda/envs/github_env/lib/python3.8/site-packages (0.7.1)\n",
      "Requirement already satisfied, skipping upgrade: pyyaml in /home/cytwill/.conda/envs/github_env/lib/python3.8/site-packages (from dask[complete]) (5.3.1)\n",
      "Requirement already satisfied, skipping upgrade: pandas>=0.23.0; extra == \"complete\" in /home/cytwill/.conda/envs/github_env/lib/python3.8/site-packages (from dask[complete]) (1.0.5)\n",
      "Requirement already satisfied, skipping upgrade: cloudpickle>=0.2.2; extra == \"complete\" in /home/cytwill/.conda/envs/github_env/lib/python3.8/site-packages (from dask[complete]) (1.5.0)\n",
      "Requirement already satisfied, skipping upgrade: numpy>=1.13.0; extra == \"complete\" in /home/cytwill/.conda/envs/github_env/lib/python3.8/site-packages (from dask[complete]) (1.18.5)\n",
      "Requirement already satisfied, skipping upgrade: fsspec>=0.6.0; extra == \"complete\" in /home/cytwill/.conda/envs/github_env/lib/python3.8/site-packages (from dask[complete]) (0.8.4)\n",
      "Requirement already satisfied, skipping upgrade: toolz>=0.8.2; extra == \"complete\" in /home/cytwill/.conda/envs/github_env/lib/python3.8/site-packages (from dask[complete]) (0.10.0)\n",
      "Requirement already satisfied, skipping upgrade: distributed>=2.0; extra == \"complete\" in /home/cytwill/.conda/envs/github_env/lib/python3.8/site-packages (from dask[complete]) (2.20.0)\n",
      "Requirement already satisfied, skipping upgrade: bokeh!=2.0.0,>=1.0.0; extra == \"complete\" in /home/cytwill/.conda/envs/github_env/lib/python3.8/site-packages (from dask[complete]) (2.1.1)\n",
      "Requirement already satisfied, skipping upgrade: partd>=0.3.10; extra == \"complete\" in /home/cytwill/.conda/envs/github_env/lib/python3.8/site-packages (from dask[complete]) (1.1.0)\n",
      "Requirement already satisfied, skipping upgrade: pytz>=2017.2 in /home/cytwill/.conda/envs/github_env/lib/python3.8/site-packages (from pandas>=0.23.0; extra == \"complete\"->dask[complete]) (2020.1)\n",
      "Requirement already satisfied, skipping upgrade: python-dateutil>=2.6.1 in /home/cytwill/.conda/envs/github_env/lib/python3.8/site-packages (from pandas>=0.23.0; extra == \"complete\"->dask[complete]) (2.8.1)\n",
      "Requirement already satisfied, skipping upgrade: click>=6.6 in /home/cytwill/.conda/envs/github_env/lib/python3.8/site-packages (from distributed>=2.0; extra == \"complete\"->dask[complete]) (7.1.2)\n",
      "Requirement already satisfied, skipping upgrade: sortedcontainers!=2.0.0,!=2.0.1 in /home/cytwill/.conda/envs/github_env/lib/python3.8/site-packages (from distributed>=2.0; extra == \"complete\"->dask[complete]) (2.2.2)\n",
      "Requirement already satisfied, skipping upgrade: tblib>=1.6.0 in /home/cytwill/.conda/envs/github_env/lib/python3.8/site-packages (from distributed>=2.0; extra == \"complete\"->dask[complete]) (1.6.0)\n",
      "Requirement already satisfied, skipping upgrade: msgpack>=0.6.0 in /home/cytwill/.conda/envs/github_env/lib/python3.8/site-packages (from distributed>=2.0; extra == \"complete\"->dask[complete]) (1.0.0)\n",
      "Requirement already satisfied, skipping upgrade: psutil>=5.0 in /home/cytwill/.conda/envs/github_env/lib/python3.8/site-packages (from distributed>=2.0; extra == \"complete\"->dask[complete]) (5.7.0)\n",
      "Requirement already satisfied, skipping upgrade: zict>=0.1.3 in /home/cytwill/.conda/envs/github_env/lib/python3.8/site-packages (from distributed>=2.0; extra == \"complete\"->dask[complete]) (2.0.0)\n",
      "Requirement already satisfied, skipping upgrade: setuptools in /home/cytwill/.conda/envs/github_env/lib/python3.8/site-packages (from distributed>=2.0; extra == \"complete\"->dask[complete]) (49.2.0.post20200714)\n",
      "Requirement already satisfied, skipping upgrade: tornado>=6.0.3; python_version >= \"3.8\" in /home/cytwill/.conda/envs/github_env/lib/python3.8/site-packages (from distributed>=2.0; extra == \"complete\"->dask[complete]) (6.0.4)\n",
      "Requirement already satisfied, skipping upgrade: pillow>=4.0 in /home/cytwill/.conda/envs/github_env/lib/python3.8/site-packages (from bokeh!=2.0.0,>=1.0.0; extra == \"complete\"->dask[complete]) (7.2.0)\n",
      "Requirement already satisfied, skipping upgrade: typing-extensions>=3.7.4 in /home/cytwill/.conda/envs/github_env/lib/python3.8/site-packages (from bokeh!=2.0.0,>=1.0.0; extra == \"complete\"->dask[complete]) (3.7.4.2)\n",
      "Requirement already satisfied, skipping upgrade: Jinja2>=2.7 in /home/cytwill/.conda/envs/github_env/lib/python3.8/site-packages (from bokeh!=2.0.0,>=1.0.0; extra == \"complete\"->dask[complete]) (2.11.2)\n",
      "Requirement already satisfied, skipping upgrade: packaging>=16.8 in /home/cytwill/.conda/envs/github_env/lib/python3.8/site-packages (from bokeh!=2.0.0,>=1.0.0; extra == \"complete\"->dask[complete]) (20.4)\n",
      "Requirement already satisfied, skipping upgrade: locket in /home/cytwill/.conda/envs/github_env/lib/python3.8/site-packages (from partd>=0.3.10; extra == \"complete\"->dask[complete]) (0.2.0)\n",
      "Requirement already satisfied, skipping upgrade: six>=1.5 in /home/cytwill/.conda/envs/github_env/lib/python3.8/site-packages (from python-dateutil>=2.6.1->pandas>=0.23.0; extra == \"complete\"->dask[complete]) (1.15.0)\n",
      "Requirement already satisfied, skipping upgrade: heapdict in /home/cytwill/.conda/envs/github_env/lib/python3.8/site-packages (from zict>=0.1.3->distributed>=2.0; extra == \"complete\"->dask[complete]) (1.0.1)\n",
      "Requirement already satisfied, skipping upgrade: MarkupSafe>=0.23 in /home/cytwill/.conda/envs/github_env/lib/python3.8/site-packages (from Jinja2>=2.7->bokeh!=2.0.0,>=1.0.0; extra == \"complete\"->dask[complete]) (1.1.1)\n",
      "Requirement already satisfied, skipping upgrade: pyparsing>=2.0.2 in /home/cytwill/.conda/envs/github_env/lib/python3.8/site-packages (from packaging>=16.8->bokeh!=2.0.0,>=1.0.0; extra == \"complete\"->dask[complete]) (2.4.7)\n"
     ]
    }
   ],
   "source": [
    "! pip install \"dask[complete]\" dask-jobqueue --upgrade #conda install dask-jobqueue -c conda-forge"
   ]
  },
  {
   "cell_type": "markdown",
   "metadata": {},
   "source": [
    "To construct a cluster on RCC system, we use the SLURMCluster of the RCC system to define our sbatch scripts. The \"queue\" argument specifies the partition to which you would like to submit your jobs; the \"core\" argument specifies the number of cpus you would like to use for each node (not the entire number of cpus); the \"memory\" argument defines the total memory allocation for a single node in the cluster, which is evenly distributed over all cpus; the \"process\" argument integrate cores into subgroups and for most pythonic jobs it is recommmended to make each process hold one cpu to avoid the [Global Interpreter Lock](https://realpython.com/python-gil/); the 'interface' argument is used to define the type of network interface linking different nodes, which in our case is the infiniband interconnect (ib0).       "
   ]
  },
  {
   "cell_type": "code",
   "execution_count": null,
   "metadata": {},
   "outputs": [],
   "source": [
    "import dask_jobqueue as jobq\n",
    "\n",
    "cluster = jobq.SLURMCluster(queue='broadwl',cores=10, memory='40GB',processes=10,\n",
    "                            walltime='01:00:00', interface='ib0', job_extra=['--account=macs30123']\n",
    "                            #job_extra=['--output=dask_worker.out',\n",
    "                            #           '--error=dask_worker.err']\n",
    "                           )"
   ]
  },
  {
   "cell_type": "markdown",
   "metadata": {},
   "source": [
    "According to the printed information (if none, use the default port number 8787), we can open the monitor at `localhost:[port-number]`. By default, there are no workers started at this moment, you can check the generated sbatch script, which is just like our sbatch files, before finally submitting the jobs to the queue system by using the scale methods, which would create the multi-node cluster needed by our parallel analysis."
   ]
  },
  {
   "cell_type": "code",
   "execution_count": 2,
   "metadata": {},
   "outputs": [
    {
     "name": "stdout",
     "output_type": "stream",
     "text": [
      "#!/usr/bin/env bash\n",
      "\n",
      "#SBATCH -J dask-worker\n",
      "#SBATCH -p broadwl\n",
      "#SBATCH -n 1\n",
      "#SBATCH --cpus-per-task=10\n",
      "#SBATCH --mem=38G\n",
      "#SBATCH -t 03:00:00\n",
      "#SBATCH --account=pi-jevans\n",
      "\n",
      "/home/cytwill/.conda/envs/github_env/bin/python -m distributed.cli.dask_worker tcp://172.25.220.71:38954 --nthreads 1 --nprocs 10 --memory-limit 4.00GB --name name --nanny --death-timeout 60 --interface ib0\n",
      "\n"
     ]
    }
   ],
   "source": [
    "print(cluster.job_script())"
   ]
  },
  {
   "cell_type": "markdown",
   "metadata": {},
   "source": [
    "The assignment of the client object is an important step to connect the dask backend to the cluster you just specified. Otherwise, they would just run on a local cluster (which is forbidden by RCC). "
   ]
  },
  {
   "cell_type": "code",
   "execution_count": 3,
   "metadata": {},
   "outputs": [],
   "source": [
    "# allocate 2 nodes to the cluster\n",
    "cluster.scale(jobs=2)\n",
    "\n",
    "# connect the local machine to the nodes\n",
    "from dask.distributed import Client\n",
    "client = Client(cluster)"
   ]
  },
  {
   "cell_type": "markdown",
   "metadata": {},
   "source": [
    "Dask was developed in coordination with other widely used python community projects like Numpy, Pandas, and Scikit-Learn. Like Spark, Dask provides users with parallelized arrays ([dask.array](https://docs.dask.org/en/latest/array.html)), dataframes ([dask.dataframe](https://docs.dask.org/en/latest/dataframe.html)) to store and process large dataset. It also includes a parallelized version of general python collection objects ([dask.bag](https://docs.dask.org/en/latest/bag.html)) for users to implement operations like map and filter. You would practice using these dask data types in courses on datacamp. For this section, we would primarily use the dask dataframes and arrays to finish the machine learning tasks. "
   ]
  },
  {
   "cell_type": "code",
   "execution_count": 4,
   "metadata": {},
   "outputs": [],
   "source": [
    "import dask.dataframe as dd\n",
    "\n",
    "# load the book review data\n",
    "df = dd.read_csv('/project2/macs30123/AWS_book_reviews/*.csv')"
   ]
  },
  {
   "cell_type": "markdown",
   "metadata": {},
   "source": [
    "The * symbol above is specially used in dask to read in multiple datasets in a parallel way."
   ]
  },
  {
   "cell_type": "code",
   "execution_count": 5,
   "metadata": {},
   "outputs": [
    {
     "data": {
      "text/html": [
       "<div>\n",
       "<style scoped>\n",
       "    .dataframe tbody tr th:only-of-type {\n",
       "        vertical-align: middle;\n",
       "    }\n",
       "\n",
       "    .dataframe tbody tr th {\n",
       "        vertical-align: top;\n",
       "    }\n",
       "\n",
       "    .dataframe thead th {\n",
       "        text-align: right;\n",
       "    }\n",
       "</style>\n",
       "<table border=\"1\" class=\"dataframe\">\n",
       "  <thead>\n",
       "    <tr style=\"text-align: right;\">\n",
       "      <th></th>\n",
       "      <th>marketplace</th>\n",
       "      <th>customer_id</th>\n",
       "      <th>review_id</th>\n",
       "      <th>product_id</th>\n",
       "      <th>product_parent</th>\n",
       "      <th>product_title</th>\n",
       "      <th>star_rating</th>\n",
       "      <th>helpful_votes</th>\n",
       "      <th>total_votes</th>\n",
       "      <th>vine</th>\n",
       "      <th>verified_purchase</th>\n",
       "      <th>review_headline</th>\n",
       "      <th>review_body</th>\n",
       "      <th>review_date</th>\n",
       "      <th>year</th>\n",
       "    </tr>\n",
       "  </thead>\n",
       "  <tbody>\n",
       "    <tr>\n",
       "      <th>0</th>\n",
       "      <td>US</td>\n",
       "      <td>15444933</td>\n",
       "      <td>R1WWG70WK9VUCH</td>\n",
       "      <td>1848192576</td>\n",
       "      <td>835940987</td>\n",
       "      <td>Standing Qigong for Health and Martial Arts - ...</td>\n",
       "      <td>5</td>\n",
       "      <td>9</td>\n",
       "      <td>10</td>\n",
       "      <td>N</td>\n",
       "      <td>Y</td>\n",
       "      <td>Informative AND interesting!</td>\n",
       "      <td>After attending a few Qigong classes, I wanted...</td>\n",
       "      <td>2015-05-02</td>\n",
       "      <td>2015</td>\n",
       "    </tr>\n",
       "    <tr>\n",
       "      <th>1</th>\n",
       "      <td>US</td>\n",
       "      <td>20595117</td>\n",
       "      <td>R1EQ3POS0RIOD5</td>\n",
       "      <td>145162445X</td>\n",
       "      <td>574044348</td>\n",
       "      <td>A Universe from Nothing: Why There Is Somethin...</td>\n",
       "      <td>4</td>\n",
       "      <td>4</td>\n",
       "      <td>7</td>\n",
       "      <td>N</td>\n",
       "      <td>N</td>\n",
       "      <td>Between 'Nothing' and 'Nothing' somehow we are...</td>\n",
       "      <td>Krauss traces the remarkable transformation in...</td>\n",
       "      <td>2012-06-29</td>\n",
       "      <td>2012</td>\n",
       "    </tr>\n",
       "    <tr>\n",
       "      <th>2</th>\n",
       "      <td>US</td>\n",
       "      <td>52925878</td>\n",
       "      <td>R10SRJA4VVGUBD</td>\n",
       "      <td>055341805X</td>\n",
       "      <td>846590203</td>\n",
       "      <td>Hyacinth Girls: A Novel</td>\n",
       "      <td>4</td>\n",
       "      <td>0</td>\n",
       "      <td>0</td>\n",
       "      <td>Y</td>\n",
       "      <td>N</td>\n",
       "      <td>Mysteries upon mysteries</td>\n",
       "      <td>Rebecca, a dental hygienist, receives a call a...</td>\n",
       "      <td>2015-05-02</td>\n",
       "      <td>2015</td>\n",
       "    </tr>\n",
       "    <tr>\n",
       "      <th>3</th>\n",
       "      <td>US</td>\n",
       "      <td>40062567</td>\n",
       "      <td>RD3268X41GM7U</td>\n",
       "      <td>0425263908</td>\n",
       "      <td>119148606</td>\n",
       "      <td>Bared to You</td>\n",
       "      <td>5</td>\n",
       "      <td>1</td>\n",
       "      <td>1</td>\n",
       "      <td>N</td>\n",
       "      <td>N</td>\n",
       "      <td>\"RAW, STEAMY, HYPNOTIC!\"</td>\n",
       "      <td>\\\\\"BARED TO YOU\\\\\" is a sizzling, red-hot pass...</td>\n",
       "      <td>2012-06-29</td>\n",
       "      <td>2012</td>\n",
       "    </tr>\n",
       "    <tr>\n",
       "      <th>4</th>\n",
       "      <td>US</td>\n",
       "      <td>47221489</td>\n",
       "      <td>R3KGQL5X5BSJE1</td>\n",
       "      <td>1416556141</td>\n",
       "      <td>987400385</td>\n",
       "      <td>Healer: A Novel</td>\n",
       "      <td>5</td>\n",
       "      <td>0</td>\n",
       "      <td>0</td>\n",
       "      <td>N</td>\n",
       "      <td>Y</td>\n",
       "      <td>Well written story</td>\n",
       "      <td>Good characters and plot line. I spent a pleas...</td>\n",
       "      <td>2015-05-02</td>\n",
       "      <td>2015</td>\n",
       "    </tr>\n",
       "  </tbody>\n",
       "</table>\n",
       "</div>"
      ],
      "text/plain": [
       "  marketplace  customer_id       review_id  product_id  product_parent  \\\n",
       "0          US     15444933  R1WWG70WK9VUCH  1848192576       835940987   \n",
       "1          US     20595117  R1EQ3POS0RIOD5  145162445X       574044348   \n",
       "2          US     52925878  R10SRJA4VVGUBD  055341805X       846590203   \n",
       "3          US     40062567   RD3268X41GM7U  0425263908       119148606   \n",
       "4          US     47221489  R3KGQL5X5BSJE1  1416556141       987400385   \n",
       "\n",
       "                                       product_title  star_rating  \\\n",
       "0  Standing Qigong for Health and Martial Arts - ...            5   \n",
       "1  A Universe from Nothing: Why There Is Somethin...            4   \n",
       "2                            Hyacinth Girls: A Novel            4   \n",
       "3                                       Bared to You            5   \n",
       "4                                    Healer: A Novel            5   \n",
       "\n",
       "   helpful_votes  total_votes vine verified_purchase  \\\n",
       "0              9           10    N                 Y   \n",
       "1              4            7    N                 N   \n",
       "2              0            0    Y                 N   \n",
       "3              1            1    N                 N   \n",
       "4              0            0    N                 Y   \n",
       "\n",
       "                                     review_headline  \\\n",
       "0                       Informative AND interesting!   \n",
       "1  Between 'Nothing' and 'Nothing' somehow we are...   \n",
       "2                           Mysteries upon mysteries   \n",
       "3                           \"RAW, STEAMY, HYPNOTIC!\"   \n",
       "4                                 Well written story   \n",
       "\n",
       "                                         review_body review_date  year  \n",
       "0  After attending a few Qigong classes, I wanted...  2015-05-02  2015  \n",
       "1  Krauss traces the remarkable transformation in...  2012-06-29  2012  \n",
       "2  Rebecca, a dental hygienist, receives a call a...  2015-05-02  2015  \n",
       "3  \\\\\"BARED TO YOU\\\\\" is a sizzling, red-hot pass...  2012-06-29  2012  \n",
       "4  Good characters and plot line. I spent a pleas...  2015-05-02  2015  "
      ]
     },
     "execution_count": 5,
     "metadata": {},
     "output_type": "execute_result"
    }
   ],
   "source": [
    "# take a look\n",
    "df.head()"
   ]
  },
  {
   "cell_type": "code",
   "execution_count": 6,
   "metadata": {},
   "outputs": [
    {
     "data": {
      "text/plain": [
       "marketplace          object\n",
       "customer_id           int64\n",
       "review_id            object\n",
       "product_id           object\n",
       "product_parent        int64\n",
       "product_title        object\n",
       "star_rating           int64\n",
       "helpful_votes         int64\n",
       "total_votes           int64\n",
       "vine                 object\n",
       "verified_purchase    object\n",
       "review_headline      object\n",
       "review_body          object\n",
       "review_date          object\n",
       "year                  int64\n",
       "dtype: object"
      ]
     },
     "execution_count": 6,
     "metadata": {},
     "output_type": "execute_result"
    }
   ],
   "source": [
    "df.dtypes"
   ]
  },
  {
   "cell_type": "code",
   "execution_count": 7,
   "metadata": {},
   "outputs": [
    {
     "data": {
      "text/plain": [
       "(Delayed('int-2e984e0b-6079-4183-a58b-a12176e7e6d7'), 15)"
      ]
     },
     "execution_count": 7,
     "metadata": {},
     "output_type": "execute_result"
    }
   ],
   "source": [
    "df.shape"
   ]
  },
  {
   "cell_type": "code",
   "execution_count": 8,
   "metadata": {},
   "outputs": [
    {
     "data": {
      "text/plain": [
       "20726160"
      ]
     },
     "execution_count": 8,
     "metadata": {},
     "output_type": "execute_result"
    }
   ],
   "source": [
    "df.shape[0].compute()"
   ]
  },
  {
   "cell_type": "code",
   "execution_count": 9,
   "metadata": {},
   "outputs": [
    {
     "data": {
      "text/html": [
       "<div>\n",
       "<style scoped>\n",
       "    .dataframe tbody tr th:only-of-type {\n",
       "        vertical-align: middle;\n",
       "    }\n",
       "\n",
       "    .dataframe tbody tr th {\n",
       "        vertical-align: top;\n",
       "    }\n",
       "\n",
       "    .dataframe thead th {\n",
       "        text-align: right;\n",
       "    }\n",
       "</style>\n",
       "<table border=\"1\" class=\"dataframe\">\n",
       "  <thead>\n",
       "    <tr style=\"text-align: right;\">\n",
       "      <th></th>\n",
       "      <th>customer_id</th>\n",
       "      <th>product_parent</th>\n",
       "      <th>star_rating</th>\n",
       "      <th>helpful_votes</th>\n",
       "      <th>total_votes</th>\n",
       "      <th>year</th>\n",
       "    </tr>\n",
       "  </thead>\n",
       "  <tbody>\n",
       "    <tr>\n",
       "      <th>count</th>\n",
       "      <td>2.072616e+07</td>\n",
       "      <td>2.072616e+07</td>\n",
       "      <td>2.072616e+07</td>\n",
       "      <td>2.072616e+07</td>\n",
       "      <td>2.072616e+07</td>\n",
       "      <td>2.072616e+07</td>\n",
       "    </tr>\n",
       "    <tr>\n",
       "      <th>mean</th>\n",
       "      <td>3.287233e+07</td>\n",
       "      <td>5.012232e+08</td>\n",
       "      <td>4.340540e+00</td>\n",
       "      <td>3.836475e+00</td>\n",
       "      <td>5.332147e+00</td>\n",
       "      <td>2.010451e+03</td>\n",
       "    </tr>\n",
       "    <tr>\n",
       "      <th>std</th>\n",
       "      <td>1.545060e+07</td>\n",
       "      <td>2.878609e+08</td>\n",
       "      <td>1.125604e+00</td>\n",
       "      <td>2.240867e+01</td>\n",
       "      <td>2.581018e+01</td>\n",
       "      <td>4.506381e+00</td>\n",
       "    </tr>\n",
       "    <tr>\n",
       "      <th>min</th>\n",
       "      <td>1.002400e+04</td>\n",
       "      <td>5.760000e+02</td>\n",
       "      <td>1.000000e+00</td>\n",
       "      <td>0.000000e+00</td>\n",
       "      <td>0.000000e+00</td>\n",
       "      <td>1.995000e+03</td>\n",
       "    </tr>\n",
       "    <tr>\n",
       "      <th>25%</th>\n",
       "      <td>2.888019e+07</td>\n",
       "      <td>2.623204e+08</td>\n",
       "      <td>4.000000e+00</td>\n",
       "      <td>0.000000e+00</td>\n",
       "      <td>1.000000e+00</td>\n",
       "      <td>2.010000e+03</td>\n",
       "    </tr>\n",
       "    <tr>\n",
       "      <th>50%</th>\n",
       "      <td>4.314521e+07</td>\n",
       "      <td>5.120222e+08</td>\n",
       "      <td>5.000000e+00</td>\n",
       "      <td>1.000000e+00</td>\n",
       "      <td>2.000000e+00</td>\n",
       "      <td>2.013000e+03</td>\n",
       "    </tr>\n",
       "    <tr>\n",
       "      <th>75%</th>\n",
       "      <td>5.259045e+07</td>\n",
       "      <td>7.577690e+08</td>\n",
       "      <td>5.000000e+00</td>\n",
       "      <td>7.000000e+00</td>\n",
       "      <td>9.000000e+00</td>\n",
       "      <td>2.014000e+03</td>\n",
       "    </tr>\n",
       "    <tr>\n",
       "      <th>max</th>\n",
       "      <td>5.309659e+07</td>\n",
       "      <td>9.999999e+08</td>\n",
       "      <td>5.000000e+00</td>\n",
       "      <td>2.755000e+04</td>\n",
       "      <td>2.872700e+04</td>\n",
       "      <td>2.015000e+03</td>\n",
       "    </tr>\n",
       "  </tbody>\n",
       "</table>\n",
       "</div>"
      ],
      "text/plain": [
       "        customer_id  product_parent   star_rating  helpful_votes  \\\n",
       "count  2.072616e+07    2.072616e+07  2.072616e+07   2.072616e+07   \n",
       "mean   3.287233e+07    5.012232e+08  4.340540e+00   3.836475e+00   \n",
       "std    1.545060e+07    2.878609e+08  1.125604e+00   2.240867e+01   \n",
       "min    1.002400e+04    5.760000e+02  1.000000e+00   0.000000e+00   \n",
       "25%    2.888019e+07    2.623204e+08  4.000000e+00   0.000000e+00   \n",
       "50%    4.314521e+07    5.120222e+08  5.000000e+00   1.000000e+00   \n",
       "75%    5.259045e+07    7.577690e+08  5.000000e+00   7.000000e+00   \n",
       "max    5.309659e+07    9.999999e+08  5.000000e+00   2.755000e+04   \n",
       "\n",
       "        total_votes          year  \n",
       "count  2.072616e+07  2.072616e+07  \n",
       "mean   5.332147e+00  2.010451e+03  \n",
       "std    2.581018e+01  4.506381e+00  \n",
       "min    0.000000e+00  1.995000e+03  \n",
       "25%    1.000000e+00  2.010000e+03  \n",
       "50%    2.000000e+00  2.013000e+03  \n",
       "75%    9.000000e+00  2.014000e+03  \n",
       "max    2.872700e+04  2.015000e+03  "
      ]
     },
     "execution_count": 9,
     "metadata": {},
     "output_type": "execute_result"
    }
   ],
   "source": [
    "df.describe().compute()"
   ]
  },
  {
   "cell_type": "markdown",
   "metadata": {},
   "source": [
    "According to the above data exploration, we could see that the dask dataset has many methods that are analogous to the functions in [pandas](https://pandas.pydata.org/docs/reference/index.html), so it would be very easy-to-use if you are already familiar with pandas. One major difference is the use of delay mechanism in dask dataframes, which is revealed by the compute() function. This means that dataframe operations would not be executed unless the compute method is called, and this would trigger all previously called related operations to be performed like a pipeline.  "
   ]
  },
  {
   "cell_type": "markdown",
   "metadata": {},
   "source": [
    "### Preprocessing"
   ]
  },
  {
   "cell_type": "markdown",
   "metadata": {},
   "source": [
    "Next we are going to perform the preprocessing for the book review dataset to obtain our features and labels for the machine learning task. Based on our intuition, id_like attributes are not likely to provide much useful information. Other attributes like total_votes and helpful_votes might contain more useful information about the ratings of books. We can make a mean calculation based on the groupby results to check our speculations. "
   ]
  },
  {
   "cell_type": "code",
   "execution_count": 7,
   "metadata": {},
   "outputs": [
    {
     "data": {
      "text/html": [
       "<div>\n",
       "<style scoped>\n",
       "    .dataframe tbody tr th:only-of-type {\n",
       "        vertical-align: middle;\n",
       "    }\n",
       "\n",
       "    .dataframe tbody tr th {\n",
       "        vertical-align: top;\n",
       "    }\n",
       "\n",
       "    .dataframe thead th {\n",
       "        text-align: right;\n",
       "    }\n",
       "</style>\n",
       "<table border=\"1\" class=\"dataframe\">\n",
       "  <thead>\n",
       "    <tr style=\"text-align: right;\">\n",
       "      <th></th>\n",
       "      <th>customer_id</th>\n",
       "      <th>product_parent</th>\n",
       "      <th>star_rating</th>\n",
       "      <th>helpful_votes</th>\n",
       "      <th>total_votes</th>\n",
       "      <th>year</th>\n",
       "    </tr>\n",
       "    <tr>\n",
       "      <th>marketplace</th>\n",
       "      <th></th>\n",
       "      <th></th>\n",
       "      <th></th>\n",
       "      <th></th>\n",
       "      <th></th>\n",
       "      <th></th>\n",
       "    </tr>\n",
       "  </thead>\n",
       "  <tbody>\n",
       "    <tr>\n",
       "      <th>DE</th>\n",
       "      <td>4.196011e+07</td>\n",
       "      <td>5.047194e+08</td>\n",
       "      <td>4.358941</td>\n",
       "      <td>2.360758</td>\n",
       "      <td>3.647635</td>\n",
       "      <td>2005.886768</td>\n",
       "    </tr>\n",
       "    <tr>\n",
       "      <th>FR</th>\n",
       "      <td>3.075995e+07</td>\n",
       "      <td>5.214875e+08</td>\n",
       "      <td>4.308173</td>\n",
       "      <td>2.785668</td>\n",
       "      <td>3.946417</td>\n",
       "      <td>2011.635635</td>\n",
       "    </tr>\n",
       "    <tr>\n",
       "      <th>JP</th>\n",
       "      <td>3.667752e+07</td>\n",
       "      <td>5.157488e+08</td>\n",
       "      <td>4.452929</td>\n",
       "      <td>6.054778</td>\n",
       "      <td>8.073038</td>\n",
       "      <td>2009.791874</td>\n",
       "    </tr>\n",
       "    <tr>\n",
       "      <th>UK</th>\n",
       "      <td>3.263059e+07</td>\n",
       "      <td>5.065183e+08</td>\n",
       "      <td>4.363765</td>\n",
       "      <td>2.979392</td>\n",
       "      <td>4.290699</td>\n",
       "      <td>2012.018752</td>\n",
       "    </tr>\n",
       "    <tr>\n",
       "      <th>US</th>\n",
       "      <td>3.284676e+07</td>\n",
       "      <td>5.011147e+08</td>\n",
       "      <td>4.340153</td>\n",
       "      <td>3.851688</td>\n",
       "      <td>5.350379</td>\n",
       "      <td>2010.444432</td>\n",
       "    </tr>\n",
       "  </tbody>\n",
       "</table>\n",
       "</div>"
      ],
      "text/plain": [
       "              customer_id  product_parent  star_rating  helpful_votes  \\\n",
       "marketplace                                                             \n",
       "DE           4.196011e+07    5.047194e+08     4.358941       2.360758   \n",
       "FR           3.075995e+07    5.214875e+08     4.308173       2.785668   \n",
       "JP           3.667752e+07    5.157488e+08     4.452929       6.054778   \n",
       "UK           3.263059e+07    5.065183e+08     4.363765       2.979392   \n",
       "US           3.284676e+07    5.011147e+08     4.340153       3.851688   \n",
       "\n",
       "             total_votes         year  \n",
       "marketplace                            \n",
       "DE              3.647635  2005.886768  \n",
       "FR              3.946417  2011.635635  \n",
       "JP              8.073038  2009.791874  \n",
       "UK              4.290699  2012.018752  \n",
       "US              5.350379  2010.444432  "
      ]
     },
     "execution_count": 7,
     "metadata": {},
     "output_type": "execute_result"
    }
   ],
   "source": [
    "# do a groupby operation\n",
    "df.groupby(by='marketplace').mean().compute()"
   ]
  },
  {
   "cell_type": "markdown",
   "metadata": {},
   "source": [
    "Here we manually encoded the categorical of vine and verified_purchase. You can also do this in dask with the [OrdinalEncoder](https://ml.dask.org/modules/generated/dask_ml.preprocessing.OrdinalEncoder.html). "
   ]
  },
  {
   "cell_type": "code",
   "execution_count": 10,
   "metadata": {},
   "outputs": [],
   "source": [
    "# adding some coded features\n",
    "df['vine_code'] = df['vine'].apply(lambda x:1 if x=='Y' else 0, meta=('vine', 'int64'))\n",
    "df['verified_purchase_code'] = df['verified_purchase'].apply(lambda x:1 if x=='Y' else 0, meta=('vine', 'int64'))"
   ]
  },
  {
   "cell_type": "code",
   "execution_count": 11,
   "metadata": {},
   "outputs": [
    {
     "data": {
      "text/html": [
       "<div>\n",
       "<style scoped>\n",
       "    .dataframe tbody tr th:only-of-type {\n",
       "        vertical-align: middle;\n",
       "    }\n",
       "\n",
       "    .dataframe tbody tr th {\n",
       "        vertical-align: top;\n",
       "    }\n",
       "\n",
       "    .dataframe thead th {\n",
       "        text-align: right;\n",
       "    }\n",
       "</style>\n",
       "<table border=\"1\" class=\"dataframe\">\n",
       "  <thead>\n",
       "    <tr style=\"text-align: right;\">\n",
       "      <th></th>\n",
       "      <th>vine_code</th>\n",
       "      <th>verified_purchase_code</th>\n",
       "    </tr>\n",
       "  </thead>\n",
       "  <tbody>\n",
       "    <tr>\n",
       "      <th>0</th>\n",
       "      <td>0</td>\n",
       "      <td>1</td>\n",
       "    </tr>\n",
       "    <tr>\n",
       "      <th>1</th>\n",
       "      <td>0</td>\n",
       "      <td>0</td>\n",
       "    </tr>\n",
       "    <tr>\n",
       "      <th>2</th>\n",
       "      <td>1</td>\n",
       "      <td>0</td>\n",
       "    </tr>\n",
       "    <tr>\n",
       "      <th>3</th>\n",
       "      <td>0</td>\n",
       "      <td>0</td>\n",
       "    </tr>\n",
       "    <tr>\n",
       "      <th>4</th>\n",
       "      <td>0</td>\n",
       "      <td>1</td>\n",
       "    </tr>\n",
       "  </tbody>\n",
       "</table>\n",
       "</div>"
      ],
      "text/plain": [
       "   vine_code  verified_purchase_code\n",
       "0          0                       1\n",
       "1          0                       0\n",
       "2          1                       0\n",
       "3          0                       0\n",
       "4          0                       1"
      ]
     },
     "execution_count": 11,
     "metadata": {},
     "output_type": "execute_result"
    }
   ],
   "source": [
    "df[['vine_code','verified_purchase_code']].head()"
   ]
  },
  {
   "cell_type": "code",
   "execution_count": 28,
   "metadata": {},
   "outputs": [
    {
     "data": {
      "text/html": [
       "<div>\n",
       "<style scoped>\n",
       "    .dataframe tbody tr th:only-of-type {\n",
       "        vertical-align: middle;\n",
       "    }\n",
       "\n",
       "    .dataframe tbody tr th {\n",
       "        vertical-align: top;\n",
       "    }\n",
       "\n",
       "    .dataframe thead th {\n",
       "        text-align: right;\n",
       "    }\n",
       "</style>\n",
       "<table border=\"1\" class=\"dataframe\">\n",
       "  <thead>\n",
       "    <tr style=\"text-align: right;\">\n",
       "      <th></th>\n",
       "      <th>customer_id</th>\n",
       "      <th>product_parent</th>\n",
       "      <th>helpful_votes</th>\n",
       "      <th>total_votes</th>\n",
       "      <th>year</th>\n",
       "      <th>vine_code</th>\n",
       "      <th>verified_purchase_code</th>\n",
       "    </tr>\n",
       "    <tr>\n",
       "      <th>star_rating</th>\n",
       "      <th></th>\n",
       "      <th></th>\n",
       "      <th></th>\n",
       "      <th></th>\n",
       "      <th></th>\n",
       "      <th></th>\n",
       "      <th></th>\n",
       "    </tr>\n",
       "  </thead>\n",
       "  <tbody>\n",
       "    <tr>\n",
       "      <th>1</th>\n",
       "      <td>3.447849e+07</td>\n",
       "      <td>5.016755e+08</td>\n",
       "      <td>9.876988</td>\n",
       "      <td>20.341088</td>\n",
       "      <td>2009.393735</td>\n",
       "      <td>0.003899</td>\n",
       "      <td>0.354239</td>\n",
       "    </tr>\n",
       "    <tr>\n",
       "      <th>2</th>\n",
       "      <td>3.533688e+07</td>\n",
       "      <td>5.006462e+08</td>\n",
       "      <td>6.476555</td>\n",
       "      <td>10.455063</td>\n",
       "      <td>2009.584428</td>\n",
       "      <td>0.019910</td>\n",
       "      <td>0.427630</td>\n",
       "    </tr>\n",
       "    <tr>\n",
       "      <th>3</th>\n",
       "      <td>3.446525e+07</td>\n",
       "      <td>5.004053e+08</td>\n",
       "      <td>4.549026</td>\n",
       "      <td>6.554343</td>\n",
       "      <td>2010.105793</td>\n",
       "      <td>0.033166</td>\n",
       "      <td>0.470260</td>\n",
       "    </tr>\n",
       "    <tr>\n",
       "      <th>4</th>\n",
       "      <td>3.394212e+07</td>\n",
       "      <td>5.005828e+08</td>\n",
       "      <td>3.130165</td>\n",
       "      <td>3.934887</td>\n",
       "      <td>2010.061811</td>\n",
       "      <td>0.029201</td>\n",
       "      <td>0.460472</td>\n",
       "    </tr>\n",
       "    <tr>\n",
       "      <th>5</th>\n",
       "      <td>3.212843e+07</td>\n",
       "      <td>5.014813e+08</td>\n",
       "      <td>3.281001</td>\n",
       "      <td>4.011696</td>\n",
       "      <td>2010.731501</td>\n",
       "      <td>0.007675</td>\n",
       "      <td>0.546666</td>\n",
       "    </tr>\n",
       "  </tbody>\n",
       "</table>\n",
       "</div>"
      ],
      "text/plain": [
       "              customer_id  product_parent  helpful_votes  total_votes  \\\n",
       "star_rating                                                             \n",
       "1            3.447849e+07    5.016755e+08       9.876988    20.341088   \n",
       "2            3.533688e+07    5.006462e+08       6.476555    10.455063   \n",
       "3            3.446525e+07    5.004053e+08       4.549026     6.554343   \n",
       "4            3.394212e+07    5.005828e+08       3.130165     3.934887   \n",
       "5            3.212843e+07    5.014813e+08       3.281001     4.011696   \n",
       "\n",
       "                    year  vine_code  verified_purchase_code  \n",
       "star_rating                                                  \n",
       "1            2009.393735   0.003899                0.354239  \n",
       "2            2009.584428   0.019910                0.427630  \n",
       "3            2010.105793   0.033166                0.470260  \n",
       "4            2010.061811   0.029201                0.460472  \n",
       "5            2010.731501   0.007675                0.546666  "
      ]
     },
     "execution_count": 28,
     "metadata": {},
     "output_type": "execute_result"
    }
   ],
   "source": [
    "# do a groupby operation\n",
    "df.groupby(by='star_rating').mean().compute()"
   ]
  },
  {
   "cell_type": "markdown",
   "metadata": {},
   "source": [
    "Based on the results, it seems that our guesses are likely to be correct. For these numerical features, helpful_votes, total_votes, vine_code and verified_purchase_code would be included in our machine learning task.     "
   ]
  },
  {
   "cell_type": "markdown",
   "metadata": {},
   "source": [
    "#### Text Preprocessing"
   ]
  },
  {
   "cell_type": "markdown",
   "metadata": {},
   "source": [
    "All available feature engineering tools in dask are covered in [dask_ml](https://ml.dask.org/index.html), which we need to install first. To precess the text in dask, you can visit the [vectorizers](https://ml.dask.org/modules/generated/dask_ml.preprocessing.OrdinalEncoder.html) for more information. Noticing that the result of text processing are dask arrays with scipy sparse matrix internally. If you want to check the values in them, you need to use the toarray() or todense() methods.  "
   ]
  },
  {
   "cell_type": "code",
   "execution_count": 36,
   "metadata": {
    "collapsed": true,
    "jupyter": {
     "outputs_hidden": true
    }
   },
   "outputs": [
    {
     "name": "stdout",
     "output_type": "stream",
     "text": [
      "Collecting dask_ml\n",
      "  Downloading dask_ml-1.7.0-py3-none-any.whl (141 kB)\n",
      "\u001b[K     |████████████████████████████████| 141 kB 11.4 MB/s eta 0:00:01\n",
      "\u001b[?25hRequirement already satisfied, skipping upgrade: multipledispatch>=0.4.9 in /home/cytwill/.conda/envs/github_env/lib/python3.8/site-packages (from dask_ml) (0.6.0)\n",
      "Requirement already satisfied, skipping upgrade: packaging in /home/cytwill/.conda/envs/github_env/lib/python3.8/site-packages (from dask_ml) (20.4)\n",
      "Collecting dask-glm>=0.2.0\n",
      "  Downloading dask_glm-0.2.0-py2.py3-none-any.whl (12 kB)\n",
      "Requirement already satisfied, skipping upgrade: scipy in /home/cytwill/.conda/envs/github_env/lib/python3.8/site-packages (from dask_ml) (1.5.0)\n",
      "Requirement already satisfied, skipping upgrade: numpy>=1.17.3 in /home/cytwill/.conda/envs/github_env/lib/python3.8/site-packages (from dask_ml) (1.18.5)\n",
      "Requirement already satisfied, skipping upgrade: dask[array,dataframe]>=2.4.0 in /home/cytwill/.conda/envs/github_env/lib/python3.8/site-packages (from dask_ml) (2.25.0)\n",
      "Requirement already satisfied, skipping upgrade: distributed>=2.4.0 in /home/cytwill/.conda/envs/github_env/lib/python3.8/site-packages (from dask_ml) (2.20.0)\n",
      "Requirement already satisfied, skipping upgrade: numba in /home/cytwill/.conda/envs/github_env/lib/python3.8/site-packages (from dask_ml) (0.50.1)\n",
      "Requirement already satisfied, skipping upgrade: scikit-learn>=0.23 in /home/cytwill/.conda/envs/github_env/lib/python3.8/site-packages (from dask_ml) (0.23.1)\n",
      "Requirement already satisfied, skipping upgrade: pandas>=0.24.2 in /home/cytwill/.conda/envs/github_env/lib/python3.8/site-packages (from dask_ml) (1.0.5)\n",
      "Requirement already satisfied, skipping upgrade: six in /home/cytwill/.conda/envs/github_env/lib/python3.8/site-packages (from multipledispatch>=0.4.9->dask_ml) (1.15.0)\n",
      "Requirement already satisfied, skipping upgrade: pyparsing>=2.0.2 in /home/cytwill/.conda/envs/github_env/lib/python3.8/site-packages (from packaging->dask_ml) (2.4.7)\n",
      "Requirement already satisfied, skipping upgrade: cloudpickle>=0.2.2 in /home/cytwill/.conda/envs/github_env/lib/python3.8/site-packages (from dask-glm>=0.2.0->dask_ml) (1.5.0)\n",
      "Requirement already satisfied, skipping upgrade: pyyaml in /home/cytwill/.conda/envs/github_env/lib/python3.8/site-packages (from dask[array,dataframe]>=2.4.0->dask_ml) (5.3.1)\n",
      "Requirement already satisfied, skipping upgrade: toolz>=0.8.2; extra == \"array\" in /home/cytwill/.conda/envs/github_env/lib/python3.8/site-packages (from dask[array,dataframe]>=2.4.0->dask_ml) (0.10.0)\n",
      "Requirement already satisfied, skipping upgrade: partd>=0.3.10; extra == \"dataframe\" in /home/cytwill/.conda/envs/github_env/lib/python3.8/site-packages (from dask[array,dataframe]>=2.4.0->dask_ml) (1.1.0)\n",
      "Requirement already satisfied, skipping upgrade: fsspec>=0.6.0; extra == \"dataframe\" in /home/cytwill/.conda/envs/github_env/lib/python3.8/site-packages (from dask[array,dataframe]>=2.4.0->dask_ml) (0.8.4)\n",
      "Requirement already satisfied, skipping upgrade: setuptools in /home/cytwill/.conda/envs/github_env/lib/python3.8/site-packages (from distributed>=2.4.0->dask_ml) (49.2.0.post20200714)\n",
      "Requirement already satisfied, skipping upgrade: tornado>=6.0.3; python_version >= \"3.8\" in /home/cytwill/.conda/envs/github_env/lib/python3.8/site-packages (from distributed>=2.4.0->dask_ml) (6.0.4)\n",
      "Requirement already satisfied, skipping upgrade: click>=6.6 in /home/cytwill/.conda/envs/github_env/lib/python3.8/site-packages (from distributed>=2.4.0->dask_ml) (7.1.2)\n",
      "Requirement already satisfied, skipping upgrade: zict>=0.1.3 in /home/cytwill/.conda/envs/github_env/lib/python3.8/site-packages (from distributed>=2.4.0->dask_ml) (2.0.0)\n",
      "Requirement already satisfied, skipping upgrade: tblib>=1.6.0 in /home/cytwill/.conda/envs/github_env/lib/python3.8/site-packages (from distributed>=2.4.0->dask_ml) (1.6.0)\n",
      "Requirement already satisfied, skipping upgrade: sortedcontainers!=2.0.0,!=2.0.1 in /home/cytwill/.conda/envs/github_env/lib/python3.8/site-packages (from distributed>=2.4.0->dask_ml) (2.2.2)\n",
      "Requirement already satisfied, skipping upgrade: psutil>=5.0 in /home/cytwill/.conda/envs/github_env/lib/python3.8/site-packages (from distributed>=2.4.0->dask_ml) (5.7.0)\n",
      "Requirement already satisfied, skipping upgrade: msgpack>=0.6.0 in /home/cytwill/.conda/envs/github_env/lib/python3.8/site-packages (from distributed>=2.4.0->dask_ml) (1.0.0)\n",
      "Requirement already satisfied, skipping upgrade: llvmlite<0.34,>=0.33.0.dev0 in /home/cytwill/.conda/envs/github_env/lib/python3.8/site-packages (from numba->dask_ml) (0.33.0+1.g022ab0f)\n",
      "Requirement already satisfied, skipping upgrade: joblib>=0.11 in /home/cytwill/.conda/envs/github_env/lib/python3.8/site-packages (from scikit-learn>=0.23->dask_ml) (0.16.0)\n",
      "Requirement already satisfied, skipping upgrade: threadpoolctl>=2.0.0 in /home/cytwill/.conda/envs/github_env/lib/python3.8/site-packages (from scikit-learn>=0.23->dask_ml) (2.1.0)\n",
      "Requirement already satisfied, skipping upgrade: pytz>=2017.2 in /home/cytwill/.conda/envs/github_env/lib/python3.8/site-packages (from pandas>=0.24.2->dask_ml) (2020.1)\n",
      "Requirement already satisfied, skipping upgrade: python-dateutil>=2.6.1 in /home/cytwill/.conda/envs/github_env/lib/python3.8/site-packages (from pandas>=0.24.2->dask_ml) (2.8.1)\n",
      "Requirement already satisfied, skipping upgrade: locket in /home/cytwill/.conda/envs/github_env/lib/python3.8/site-packages (from partd>=0.3.10; extra == \"dataframe\"->dask[array,dataframe]>=2.4.0->dask_ml) (0.2.0)\n",
      "Requirement already satisfied, skipping upgrade: heapdict in /home/cytwill/.conda/envs/github_env/lib/python3.8/site-packages (from zict>=0.1.3->distributed>=2.4.0->dask_ml) (1.0.1)\n",
      "Installing collected packages: dask-glm, dask-ml\n",
      "Successfully installed dask-glm-0.2.0 dask-ml-1.7.0\n"
     ]
    }
   ],
   "source": [
    "!pip install dask_ml --upgrade"
   ]
  },
  {
   "cell_type": "code",
   "execution_count": 12,
   "metadata": {},
   "outputs": [],
   "source": [
    "# deal with missing values \n",
    "df[['review_body','review_headline']]=df[['review_body','review_headline']].fillna(value='empty')"
   ]
  },
  {
   "cell_type": "code",
   "execution_count": 13,
   "metadata": {},
   "outputs": [
    {
     "data": {
      "text/html": [
       "<table>\n",
       "<tr>\n",
       "<td>\n",
       "<table>\n",
       "  <thead>\n",
       "    <tr><td> </td><th> Array </th><th> Chunk </th></tr>\n",
       "  </thead>\n",
       "  <tbody>\n",
       "\n",
       "    <tr><th> Shape </th><td> (20726160, 64) </td> <td> (129341, 64) </td></tr>\n",
       "    <tr><th> Count </th><td> 3920 Tasks </td><td> 280 Chunks </td></tr>\n",
       "    <tr><th> Type </th><td> float64 </td><td> scipy.csr_matrix </td></tr>\n",
       "  </tbody>\n",
       "</table>\n",
       "</td>\n",
       "<td>\n",
       "<svg width=\"75\" height=\"170\" style=\"stroke:rgb(0,0,0);stroke-width:1\" >\n",
       "\n",
       "  <!-- Horizontal lines -->\n",
       "  <line x1=\"0\" y1=\"0\" x2=\"25\" y2=\"0\" style=\"stroke-width:2\" />\n",
       "  <line x1=\"0\" y1=\"6\" x2=\"25\" y2=\"6\" />\n",
       "  <line x1=\"0\" y1=\"12\" x2=\"25\" y2=\"12\" />\n",
       "  <line x1=\"0\" y1=\"19\" x2=\"25\" y2=\"19\" />\n",
       "  <line x1=\"0\" y1=\"25\" x2=\"25\" y2=\"25\" />\n",
       "  <line x1=\"0\" y1=\"31\" x2=\"25\" y2=\"31\" />\n",
       "  <line x1=\"0\" y1=\"37\" x2=\"25\" y2=\"37\" />\n",
       "  <line x1=\"0\" y1=\"44\" x2=\"25\" y2=\"44\" />\n",
       "  <line x1=\"0\" y1=\"50\" x2=\"25\" y2=\"50\" />\n",
       "  <line x1=\"0\" y1=\"56\" x2=\"25\" y2=\"56\" />\n",
       "  <line x1=\"0\" y1=\"63\" x2=\"25\" y2=\"63\" />\n",
       "  <line x1=\"0\" y1=\"69\" x2=\"25\" y2=\"69\" />\n",
       "  <line x1=\"0\" y1=\"76\" x2=\"25\" y2=\"76\" />\n",
       "  <line x1=\"0\" y1=\"81\" x2=\"25\" y2=\"81\" />\n",
       "  <line x1=\"0\" y1=\"89\" x2=\"25\" y2=\"89\" />\n",
       "  <line x1=\"0\" y1=\"94\" x2=\"25\" y2=\"94\" />\n",
       "  <line x1=\"0\" y1=\"101\" x2=\"25\" y2=\"101\" />\n",
       "  <line x1=\"0\" y1=\"107\" x2=\"25\" y2=\"107\" />\n",
       "  <line x1=\"0\" y1=\"114\" x2=\"25\" y2=\"114\" />\n",
       "  <line x1=\"0\" y1=\"120\" x2=\"25\" y2=\"120\" style=\"stroke-width:2\" />\n",
       "\n",
       "  <!-- Vertical lines -->\n",
       "  <line x1=\"0\" y1=\"0\" x2=\"0\" y2=\"120\" style=\"stroke-width:2\" />\n",
       "  <line x1=\"25\" y1=\"0\" x2=\"25\" y2=\"120\" style=\"stroke-width:2\" />\n",
       "\n",
       "  <!-- Colored Rectangle -->\n",
       "  <polygon points=\"0.0,0.0 25.412616514582485,0.0 25.412616514582485,120.0 0.0,120.0\" style=\"fill:#8B4903A0;stroke-width:0\"/>\n",
       "\n",
       "  <!-- Text -->\n",
       "  <text x=\"12.706308\" y=\"140.000000\" font-size=\"1.0rem\" font-weight=\"100\" text-anchor=\"middle\" >64</text>\n",
       "  <text x=\"45.412617\" y=\"60.000000\" font-size=\"1.0rem\" font-weight=\"100\" text-anchor=\"middle\" transform=\"rotate(-90,45.412617,60.000000)\">20726160</text>\n",
       "</svg>\n",
       "</td>\n",
       "</tr>\n",
       "</table>"
      ],
      "text/plain": [
       "dask.array<_transformer, shape=(20726160, 64), dtype=float64, chunksize=(129341, 64), chunktype=scipy.csr_matrix>"
      ]
     },
     "execution_count": 13,
     "metadata": {},
     "output_type": "execute_result"
    }
   ],
   "source": [
    "from dask_ml import feature_extraction\n",
    "\n",
    "vect = feature_extraction.text.HashingVectorizer(stop_words='english',n_features=64)\n",
    "text_sparse_array = vect.fit_transform(df['review_body'])\n",
    "text_sparse_array.compute_chunk_sizes()"
   ]
  },
  {
   "cell_type": "code",
   "execution_count": 14,
   "metadata": {},
   "outputs": [
    {
     "data": {
      "text/html": [
       "<div>\n",
       "<style scoped>\n",
       "    .dataframe tbody tr th:only-of-type {\n",
       "        vertical-align: middle;\n",
       "    }\n",
       "\n",
       "    .dataframe tbody tr th {\n",
       "        vertical-align: top;\n",
       "    }\n",
       "\n",
       "    .dataframe thead th {\n",
       "        text-align: right;\n",
       "    }\n",
       "</style>\n",
       "<table border=\"1\" class=\"dataframe\">\n",
       "  <thead>\n",
       "    <tr style=\"text-align: right;\">\n",
       "      <th></th>\n",
       "      <th>marketplace</th>\n",
       "      <th>customer_id</th>\n",
       "      <th>review_id</th>\n",
       "      <th>product_id</th>\n",
       "      <th>product_parent</th>\n",
       "      <th>product_title</th>\n",
       "      <th>star_rating</th>\n",
       "      <th>helpful_votes</th>\n",
       "      <th>total_votes</th>\n",
       "      <th>vine</th>\n",
       "      <th>verified_purchase</th>\n",
       "      <th>review_headline</th>\n",
       "      <th>review_body</th>\n",
       "      <th>review_date</th>\n",
       "      <th>year</th>\n",
       "      <th>vine_code</th>\n",
       "      <th>verified_purchase_code</th>\n",
       "      <th>label</th>\n",
       "    </tr>\n",
       "  </thead>\n",
       "  <tbody>\n",
       "    <tr>\n",
       "      <th>0</th>\n",
       "      <td>US</td>\n",
       "      <td>15444933</td>\n",
       "      <td>R1WWG70WK9VUCH</td>\n",
       "      <td>1848192576</td>\n",
       "      <td>835940987</td>\n",
       "      <td>Standing Qigong for Health and Martial Arts - ...</td>\n",
       "      <td>5</td>\n",
       "      <td>9</td>\n",
       "      <td>10</td>\n",
       "      <td>N</td>\n",
       "      <td>Y</td>\n",
       "      <td>Informative AND interesting!</td>\n",
       "      <td>After attending a few Qigong classes, I wanted...</td>\n",
       "      <td>2015-05-02</td>\n",
       "      <td>2015</td>\n",
       "      <td>0</td>\n",
       "      <td>1</td>\n",
       "      <td>1</td>\n",
       "    </tr>\n",
       "    <tr>\n",
       "      <th>1</th>\n",
       "      <td>US</td>\n",
       "      <td>20595117</td>\n",
       "      <td>R1EQ3POS0RIOD5</td>\n",
       "      <td>145162445X</td>\n",
       "      <td>574044348</td>\n",
       "      <td>A Universe from Nothing: Why There Is Somethin...</td>\n",
       "      <td>4</td>\n",
       "      <td>4</td>\n",
       "      <td>7</td>\n",
       "      <td>N</td>\n",
       "      <td>N</td>\n",
       "      <td>Between 'Nothing' and 'Nothing' somehow we are...</td>\n",
       "      <td>Krauss traces the remarkable transformation in...</td>\n",
       "      <td>2012-06-29</td>\n",
       "      <td>2012</td>\n",
       "      <td>0</td>\n",
       "      <td>0</td>\n",
       "      <td>1</td>\n",
       "    </tr>\n",
       "    <tr>\n",
       "      <th>2</th>\n",
       "      <td>US</td>\n",
       "      <td>52925878</td>\n",
       "      <td>R10SRJA4VVGUBD</td>\n",
       "      <td>055341805X</td>\n",
       "      <td>846590203</td>\n",
       "      <td>Hyacinth Girls: A Novel</td>\n",
       "      <td>4</td>\n",
       "      <td>0</td>\n",
       "      <td>0</td>\n",
       "      <td>Y</td>\n",
       "      <td>N</td>\n",
       "      <td>Mysteries upon mysteries</td>\n",
       "      <td>Rebecca, a dental hygienist, receives a call a...</td>\n",
       "      <td>2015-05-02</td>\n",
       "      <td>2015</td>\n",
       "      <td>1</td>\n",
       "      <td>0</td>\n",
       "      <td>1</td>\n",
       "    </tr>\n",
       "    <tr>\n",
       "      <th>3</th>\n",
       "      <td>US</td>\n",
       "      <td>40062567</td>\n",
       "      <td>RD3268X41GM7U</td>\n",
       "      <td>0425263908</td>\n",
       "      <td>119148606</td>\n",
       "      <td>Bared to You</td>\n",
       "      <td>5</td>\n",
       "      <td>1</td>\n",
       "      <td>1</td>\n",
       "      <td>N</td>\n",
       "      <td>N</td>\n",
       "      <td>\"RAW, STEAMY, HYPNOTIC!\"</td>\n",
       "      <td>\\\\\"BARED TO YOU\\\\\" is a sizzling, red-hot pass...</td>\n",
       "      <td>2012-06-29</td>\n",
       "      <td>2012</td>\n",
       "      <td>0</td>\n",
       "      <td>0</td>\n",
       "      <td>1</td>\n",
       "    </tr>\n",
       "    <tr>\n",
       "      <th>4</th>\n",
       "      <td>US</td>\n",
       "      <td>47221489</td>\n",
       "      <td>R3KGQL5X5BSJE1</td>\n",
       "      <td>1416556141</td>\n",
       "      <td>987400385</td>\n",
       "      <td>Healer: A Novel</td>\n",
       "      <td>5</td>\n",
       "      <td>0</td>\n",
       "      <td>0</td>\n",
       "      <td>N</td>\n",
       "      <td>Y</td>\n",
       "      <td>Well written story</td>\n",
       "      <td>Good characters and plot line. I spent a pleas...</td>\n",
       "      <td>2015-05-02</td>\n",
       "      <td>2015</td>\n",
       "      <td>0</td>\n",
       "      <td>1</td>\n",
       "      <td>1</td>\n",
       "    </tr>\n",
       "  </tbody>\n",
       "</table>\n",
       "</div>"
      ],
      "text/plain": [
       "  marketplace  customer_id       review_id  product_id  product_parent  \\\n",
       "0          US     15444933  R1WWG70WK9VUCH  1848192576       835940987   \n",
       "1          US     20595117  R1EQ3POS0RIOD5  145162445X       574044348   \n",
       "2          US     52925878  R10SRJA4VVGUBD  055341805X       846590203   \n",
       "3          US     40062567   RD3268X41GM7U  0425263908       119148606   \n",
       "4          US     47221489  R3KGQL5X5BSJE1  1416556141       987400385   \n",
       "\n",
       "                                       product_title  star_rating  \\\n",
       "0  Standing Qigong for Health and Martial Arts - ...            5   \n",
       "1  A Universe from Nothing: Why There Is Somethin...            4   \n",
       "2                            Hyacinth Girls: A Novel            4   \n",
       "3                                       Bared to You            5   \n",
       "4                                    Healer: A Novel            5   \n",
       "\n",
       "   helpful_votes  total_votes vine verified_purchase  \\\n",
       "0              9           10    N                 Y   \n",
       "1              4            7    N                 N   \n",
       "2              0            0    Y                 N   \n",
       "3              1            1    N                 N   \n",
       "4              0            0    N                 Y   \n",
       "\n",
       "                                     review_headline  \\\n",
       "0                       Informative AND interesting!   \n",
       "1  Between 'Nothing' and 'Nothing' somehow we are...   \n",
       "2                           Mysteries upon mysteries   \n",
       "3                           \"RAW, STEAMY, HYPNOTIC!\"   \n",
       "4                                 Well written story   \n",
       "\n",
       "                                         review_body review_date  year  \\\n",
       "0  After attending a few Qigong classes, I wanted...  2015-05-02  2015   \n",
       "1  Krauss traces the remarkable transformation in...  2012-06-29  2012   \n",
       "2  Rebecca, a dental hygienist, receives a call a...  2015-05-02  2015   \n",
       "3  \\\\\"BARED TO YOU\\\\\" is a sizzling, red-hot pass...  2012-06-29  2012   \n",
       "4  Good characters and plot line. I spent a pleas...  2015-05-02  2015   \n",
       "\n",
       "   vine_code  verified_purchase_code  label  \n",
       "0          0                       1      1  \n",
       "1          0                       0      1  \n",
       "2          1                       0      1  \n",
       "3          0                       0      1  \n",
       "4          0                       1      1  "
      ]
     },
     "execution_count": 14,
     "metadata": {},
     "output_type": "execute_result"
    }
   ],
   "source": [
    "df['label'] = df['star_rating'].apply(lambda x:1 if x>3 else 0, meta=('star_rating', 'int64'))\n",
    "df.head()"
   ]
  },
  {
   "cell_type": "code",
   "execution_count": 15,
   "metadata": {},
   "outputs": [
    {
     "data": {
      "text/plain": [
       "label\n",
       "0     3517710\n",
       "1    17208450\n",
       "Name: star_rating, dtype: int64"
      ]
     },
     "execution_count": 15,
     "metadata": {},
     "output_type": "execute_result"
    }
   ],
   "source": [
    "df.groupby('label').count().compute()['star_rating']"
   ]
  },
  {
   "cell_type": "code",
   "execution_count": 16,
   "metadata": {},
   "outputs": [],
   "source": [
    "# Pick up some features we think of useful as features\n",
    "num_feature_df = df[['helpful_votes','total_votes','vine_code','verified_purchase_code']]"
   ]
  },
  {
   "cell_type": "markdown",
   "metadata": {},
   "source": [
    "It is useful to do some scaling here to decrease the effect of different scales for difffernt attributes. For different scale methods, you can see [here](https://ml.dask.org/modules/api.html#module-dask_ml.preprocessing)"
   ]
  },
  {
   "cell_type": "code",
   "execution_count": 17,
   "metadata": {},
   "outputs": [
    {
     "data": {
      "text/html": [
       "<div>\n",
       "<style scoped>\n",
       "    .dataframe tbody tr th:only-of-type {\n",
       "        vertical-align: middle;\n",
       "    }\n",
       "\n",
       "    .dataframe tbody tr th {\n",
       "        vertical-align: top;\n",
       "    }\n",
       "\n",
       "    .dataframe thead th {\n",
       "        text-align: right;\n",
       "    }\n",
       "</style>\n",
       "<table border=\"1\" class=\"dataframe\">\n",
       "  <thead>\n",
       "    <tr style=\"text-align: right;\">\n",
       "      <th></th>\n",
       "      <th>helpful_votes</th>\n",
       "      <th>total_votes</th>\n",
       "      <th>vine_code</th>\n",
       "      <th>verified_purchase_code</th>\n",
       "    </tr>\n",
       "  </thead>\n",
       "  <tbody>\n",
       "    <tr>\n",
       "      <th>0</th>\n",
       "      <td>0.000327</td>\n",
       "      <td>0.000348</td>\n",
       "      <td>0.0</td>\n",
       "      <td>1.0</td>\n",
       "    </tr>\n",
       "    <tr>\n",
       "      <th>1</th>\n",
       "      <td>0.000145</td>\n",
       "      <td>0.000244</td>\n",
       "      <td>0.0</td>\n",
       "      <td>0.0</td>\n",
       "    </tr>\n",
       "    <tr>\n",
       "      <th>2</th>\n",
       "      <td>0.000000</td>\n",
       "      <td>0.000000</td>\n",
       "      <td>1.0</td>\n",
       "      <td>0.0</td>\n",
       "    </tr>\n",
       "    <tr>\n",
       "      <th>3</th>\n",
       "      <td>0.000036</td>\n",
       "      <td>0.000035</td>\n",
       "      <td>0.0</td>\n",
       "      <td>0.0</td>\n",
       "    </tr>\n",
       "    <tr>\n",
       "      <th>4</th>\n",
       "      <td>0.000000</td>\n",
       "      <td>0.000000</td>\n",
       "      <td>0.0</td>\n",
       "      <td>1.0</td>\n",
       "    </tr>\n",
       "  </tbody>\n",
       "</table>\n",
       "</div>"
      ],
      "text/plain": [
       "   helpful_votes  total_votes  vine_code  verified_purchase_code\n",
       "0       0.000327     0.000348        0.0                     1.0\n",
       "1       0.000145     0.000244        0.0                     0.0\n",
       "2       0.000000     0.000000        1.0                     0.0\n",
       "3       0.000036     0.000035        0.0                     0.0\n",
       "4       0.000000     0.000000        0.0                     1.0"
      ]
     },
     "execution_count": 17,
     "metadata": {},
     "output_type": "execute_result"
    }
   ],
   "source": [
    "from dask_ml.preprocessing import MinMaxScaler\n",
    "scaler = MinMaxScaler()\n",
    "num_feature_df = scaler.fit_transform(num_feature_df)\n",
    "num_feature_df.head()"
   ]
  },
  {
   "cell_type": "code",
   "execution_count": 18,
   "metadata": {},
   "outputs": [],
   "source": [
    "import dask.array\n",
    "label_array = df['label'].to_dask_array().compute_chunk_sizes()\n",
    "num_feature_array = num_feature_df.to_dask_array().compute_chunk_sizes()"
   ]
  },
  {
   "cell_type": "markdown",
   "metadata": {},
   "source": [
    "It is worth mentioning the usage of compute_chunk_sizes(), this function computes and memorizes the original size and chunk size of the datasets which is useful for deciding how many samples we need for train and test sets. Previously, the total sample size of feature and label arrays are not known because they are distributed over the cluster nodes. "
   ]
  },
  {
   "cell_type": "markdown",
   "metadata": {},
   "source": [
    "### Machine Learning"
   ]
  },
  {
   "cell_type": "markdown",
   "metadata": {},
   "source": [
    "Finally come to the train-test section. Actually, dask hoes not developed most of their machine learning models. They developed parallel interface for a resourceful machine learning package [scikit-learn](https://scikit-learn.org/stable/). So the way we run machine learning methods in dask is quite similar to using scikit-learn.   "
   ]
  },
  {
   "cell_type": "code",
   "execution_count": 19,
   "metadata": {},
   "outputs": [],
   "source": [
    "# use the numerical features\n",
    "from dask_ml.model_selection import train_test_split\n",
    "X_train, X_test, y_train, y_test=train_test_split(num_feature_array, \n",
    "                                                  label_array,\n",
    "                                                  train_size=0.7,test_size=0.3,\n",
    "                                                  random_state=0)"
   ]
  },
  {
   "cell_type": "code",
   "execution_count": 20,
   "metadata": {},
   "outputs": [
    {
     "data": {
      "text/html": [
       "<table>\n",
       "<tr>\n",
       "<td>\n",
       "<table>\n",
       "  <thead>\n",
       "    <tr><td> </td><th> Array </th><th> Chunk </th></tr>\n",
       "  </thead>\n",
       "  <tbody>\n",
       "    <tr><th> Bytes </th><td> 464.26 MB </td> <td> 2.90 MB </td></tr>\n",
       "    <tr><th> Shape </th><td> (14508174, 4) </td> <td> (90538, 4) </td></tr>\n",
       "    <tr><th> Count </th><td> 2240 Tasks </td><td> 280 Chunks </td></tr>\n",
       "    <tr><th> Type </th><td> float64 </td><td> numpy.ndarray </td></tr>\n",
       "  </tbody>\n",
       "</table>\n",
       "</td>\n",
       "<td>\n",
       "<svg width=\"75\" height=\"170\" style=\"stroke:rgb(0,0,0);stroke-width:1\" >\n",
       "\n",
       "  <!-- Horizontal lines -->\n",
       "  <line x1=\"0\" y1=\"0\" x2=\"25\" y2=\"0\" style=\"stroke-width:2\" />\n",
       "  <line x1=\"0\" y1=\"6\" x2=\"25\" y2=\"6\" />\n",
       "  <line x1=\"0\" y1=\"12\" x2=\"25\" y2=\"12\" />\n",
       "  <line x1=\"0\" y1=\"19\" x2=\"25\" y2=\"19\" />\n",
       "  <line x1=\"0\" y1=\"25\" x2=\"25\" y2=\"25\" />\n",
       "  <line x1=\"0\" y1=\"31\" x2=\"25\" y2=\"31\" />\n",
       "  <line x1=\"0\" y1=\"37\" x2=\"25\" y2=\"37\" />\n",
       "  <line x1=\"0\" y1=\"44\" x2=\"25\" y2=\"44\" />\n",
       "  <line x1=\"0\" y1=\"50\" x2=\"25\" y2=\"50\" />\n",
       "  <line x1=\"0\" y1=\"56\" x2=\"25\" y2=\"56\" />\n",
       "  <line x1=\"0\" y1=\"63\" x2=\"25\" y2=\"63\" />\n",
       "  <line x1=\"0\" y1=\"69\" x2=\"25\" y2=\"69\" />\n",
       "  <line x1=\"0\" y1=\"76\" x2=\"25\" y2=\"76\" />\n",
       "  <line x1=\"0\" y1=\"81\" x2=\"25\" y2=\"81\" />\n",
       "  <line x1=\"0\" y1=\"89\" x2=\"25\" y2=\"89\" />\n",
       "  <line x1=\"0\" y1=\"94\" x2=\"25\" y2=\"94\" />\n",
       "  <line x1=\"0\" y1=\"101\" x2=\"25\" y2=\"101\" />\n",
       "  <line x1=\"0\" y1=\"107\" x2=\"25\" y2=\"107\" />\n",
       "  <line x1=\"0\" y1=\"114\" x2=\"25\" y2=\"114\" />\n",
       "  <line x1=\"0\" y1=\"120\" x2=\"25\" y2=\"120\" style=\"stroke-width:2\" />\n",
       "\n",
       "  <!-- Vertical lines -->\n",
       "  <line x1=\"0\" y1=\"0\" x2=\"0\" y2=\"120\" style=\"stroke-width:2\" />\n",
       "  <line x1=\"25\" y1=\"0\" x2=\"25\" y2=\"120\" style=\"stroke-width:2\" />\n",
       "\n",
       "  <!-- Colored Rectangle -->\n",
       "  <polygon points=\"0.0,0.0 25.412616514582485,0.0 25.412616514582485,120.0 0.0,120.0\" style=\"fill:#8B4903A0;stroke-width:0\"/>\n",
       "\n",
       "  <!-- Text -->\n",
       "  <text x=\"12.706308\" y=\"140.000000\" font-size=\"1.0rem\" font-weight=\"100\" text-anchor=\"middle\" >4</text>\n",
       "  <text x=\"45.412617\" y=\"60.000000\" font-size=\"1.0rem\" font-weight=\"100\" text-anchor=\"middle\" transform=\"rotate(-90,45.412617,60.000000)\">14508174</text>\n",
       "</svg>\n",
       "</td>\n",
       "</tr>\n",
       "</table>"
      ],
      "text/plain": [
       "dask.array<concatenate, shape=(14508174, 4), dtype=float64, chunksize=(90538, 4), chunktype=numpy.ndarray>"
      ]
     },
     "execution_count": 20,
     "metadata": {},
     "output_type": "execute_result"
    }
   ],
   "source": [
    "X_train"
   ]
  },
  {
   "cell_type": "code",
   "execution_count": 21,
   "metadata": {},
   "outputs": [
    {
     "data": {
      "text/html": [
       "<table>\n",
       "<tr>\n",
       "<td>\n",
       "<table>\n",
       "  <thead>\n",
       "    <tr><td> </td><th> Array </th><th> Chunk </th></tr>\n",
       "  </thead>\n",
       "  <tbody>\n",
       "    <tr><th> Bytes </th><td> 49.74 MB </td> <td> 310.42 kB </td></tr>\n",
       "    <tr><th> Shape </th><td> (6217985,) </td> <td> (38803,) </td></tr>\n",
       "    <tr><th> Count </th><td> 2240 Tasks </td><td> 280 Chunks </td></tr>\n",
       "    <tr><th> Type </th><td> int64 </td><td> numpy.ndarray </td></tr>\n",
       "  </tbody>\n",
       "</table>\n",
       "</td>\n",
       "<td>\n",
       "<svg width=\"170\" height=\"75\" style=\"stroke:rgb(0,0,0);stroke-width:1\" >\n",
       "\n",
       "  <!-- Horizontal lines -->\n",
       "  <line x1=\"0\" y1=\"0\" x2=\"120\" y2=\"0\" style=\"stroke-width:2\" />\n",
       "  <line x1=\"0\" y1=\"25\" x2=\"120\" y2=\"25\" style=\"stroke-width:2\" />\n",
       "\n",
       "  <!-- Vertical lines -->\n",
       "  <line x1=\"0\" y1=\"0\" x2=\"0\" y2=\"25\" style=\"stroke-width:2\" />\n",
       "  <line x1=\"6\" y1=\"0\" x2=\"6\" y2=\"25\" />\n",
       "  <line x1=\"12\" y1=\"0\" x2=\"12\" y2=\"25\" />\n",
       "  <line x1=\"19\" y1=\"0\" x2=\"19\" y2=\"25\" />\n",
       "  <line x1=\"25\" y1=\"0\" x2=\"25\" y2=\"25\" />\n",
       "  <line x1=\"31\" y1=\"0\" x2=\"31\" y2=\"25\" />\n",
       "  <line x1=\"37\" y1=\"0\" x2=\"37\" y2=\"25\" />\n",
       "  <line x1=\"44\" y1=\"0\" x2=\"44\" y2=\"25\" />\n",
       "  <line x1=\"50\" y1=\"0\" x2=\"50\" y2=\"25\" />\n",
       "  <line x1=\"56\" y1=\"0\" x2=\"56\" y2=\"25\" />\n",
       "  <line x1=\"63\" y1=\"0\" x2=\"63\" y2=\"25\" />\n",
       "  <line x1=\"69\" y1=\"0\" x2=\"69\" y2=\"25\" />\n",
       "  <line x1=\"76\" y1=\"0\" x2=\"76\" y2=\"25\" />\n",
       "  <line x1=\"81\" y1=\"0\" x2=\"81\" y2=\"25\" />\n",
       "  <line x1=\"89\" y1=\"0\" x2=\"89\" y2=\"25\" />\n",
       "  <line x1=\"94\" y1=\"0\" x2=\"94\" y2=\"25\" />\n",
       "  <line x1=\"101\" y1=\"0\" x2=\"101\" y2=\"25\" />\n",
       "  <line x1=\"107\" y1=\"0\" x2=\"107\" y2=\"25\" />\n",
       "  <line x1=\"114\" y1=\"0\" x2=\"114\" y2=\"25\" />\n",
       "  <line x1=\"120\" y1=\"0\" x2=\"120\" y2=\"25\" style=\"stroke-width:2\" />\n",
       "\n",
       "  <!-- Colored Rectangle -->\n",
       "  <polygon points=\"0.0,0.0 120.0,0.0 120.0,25.412616514582485 0.0,25.412616514582485\" style=\"fill:#8B4903A0;stroke-width:0\"/>\n",
       "\n",
       "  <!-- Text -->\n",
       "  <text x=\"60.000000\" y=\"45.412617\" font-size=\"1.0rem\" font-weight=\"100\" text-anchor=\"middle\" >6217985</text>\n",
       "  <text x=\"140.000000\" y=\"12.706308\" font-size=\"1.0rem\" font-weight=\"100\" text-anchor=\"middle\" transform=\"rotate(0,140.000000,12.706308)\">1</text>\n",
       "</svg>\n",
       "</td>\n",
       "</tr>\n",
       "</table>"
      ],
      "text/plain": [
       "dask.array<concatenate, shape=(6217985,), dtype=int64, chunksize=(38803,), chunktype=numpy.ndarray>"
      ]
     },
     "execution_count": 21,
     "metadata": {},
     "output_type": "execute_result"
    }
   ],
   "source": [
    "y_test"
   ]
  },
  {
   "cell_type": "code",
   "execution_count": 25,
   "metadata": {},
   "outputs": [],
   "source": [
    "# using class weights to mitigate data imbalance\n",
    "class_counts = df.groupby('label').count().compute()['star_rating']"
   ]
  },
  {
   "cell_type": "markdown",
   "metadata": {},
   "source": [
    "Dask allows you to use multiple models from sklearn, and here we use the SGD classifier to perform the machine learning task. As you can see from the code, we implement cross validation and hyperparameter searching in the model, which is the best part in machine learning tasks to be parallelized. The IncrementalSearchCV we used here is designed for models that have [partial_fit](https://ml.dask.org/modules/generated/dask_ml.wrappers.Incremental.html#) functions, like the SGDClassifier. These incremental learners can train on batches of data. This fits well with Dask’s blocked data structures. Besides, the use of hyper-parameter optimizer is also related to the constraint posed by memory and the increased complexity with more parameters. For details about how to choose this the optimizer, you could view [here](https://ml.dask.org/hyper-parameter-search.html?highlight=memory#scaling-hyperparameter-searches)."
   ]
  },
  {
   "cell_type": "code",
   "execution_count": 22,
   "metadata": {},
   "outputs": [
    {
     "name": "stderr",
     "output_type": "stream",
     "text": [
      "/home/cytwill/.conda/envs/github_env/lib/python3.8/site-packages/dask_ml/model_selection/_incremental.py:995: FutureWarning: decay_rate has been deprecated since Dask-ML v1.4.0.\n",
      "\n",
      "    * Use InverseDecaySearchCV to use `decay_rate`\n",
      "    * Specify decay_rate=None\n",
      "\n",
      "\n",
      "  warn(\n"
     ]
    },
    {
     "data": {
      "text/plain": [
       "IncrementalSearchCV(estimator=SGDClassifier(class_weight={0: 1,\n",
       "                                                          1: 0.20441759716883276}),\n",
       "                    parameters={'alpha': array([1.00000000e-04, 1.00926219e-04, 1.01861017e-04, 1.02804473e-04,\n",
       "       1.03756668e-04, 1.04717682e-04, 1.05687597e-04, 1.06666496e-04,\n",
       "       1.07654461e-04, 1.08651577e-04, 1.09657929e-04, 1.10673602e-04,\n",
       "       1.11698682e-04, 1.12733256e-04, 1.13777413e-04, 1.14831241e-...\n",
       "       8.39312950e-01, 8.47086827e-01, 8.54932707e-01, 8.62851257e-01,\n",
       "       8.70843150e-01, 8.78909065e-01, 8.87049689e-01, 8.95265713e-01,\n",
       "       9.03557835e-01, 9.11926760e-01, 9.20373200e-01, 9.28897872e-01,\n",
       "       9.37501502e-01, 9.46184819e-01, 9.54948564e-01, 9.63793480e-01,\n",
       "       9.72720319e-01, 9.81729841e-01, 9.90822810e-01, 1.00000000e+00]),\n",
       "                                'average': [True, False],\n",
       "                                'loss': ['hinge', 'log', 'modified_huber',\n",
       "                                         'squared_hinge']})"
      ]
     },
     "execution_count": 22,
     "metadata": {},
     "output_type": "execute_result"
    }
   ],
   "source": [
    "from dask_ml.model_selection import IncrementalSearchCV\n",
    "from sklearn.linear_model import SGDClassifier\n",
    "import numpy as np\n",
    "#import joblib\n",
    "\n",
    "clf = SGDClassifier(class_weight={0:1,1:class_counts[0]/class_counts[1]})\n",
    "params = {'alpha': np.logspace(-4, 0, num=1000),\n",
    "          'loss': ['hinge', 'log', 'modified_huber', 'squared_hinge'],\n",
    "          'average': [True, False]}\n",
    "#clf.fit(X_train, y_train)\n",
    "#clf = Incremental(est, scoring='accuracy')\n",
    "search = IncrementalSearchCV(clf, params)\n",
    "search.fit(X_train, y_train, classes=[0,1])"
   ]
  },
  {
   "cell_type": "code",
   "execution_count": 23,
   "metadata": {},
   "outputs": [
    {
     "data": {
      "text/plain": [
       "SGDClassifier(alpha=0.53917746403875,\n",
       "              class_weight={0: 1, 1: 0.20441759716883276})"
      ]
     },
     "execution_count": 23,
     "metadata": {},
     "output_type": "execute_result"
    }
   ],
   "source": [
    "# check the best parameter\n",
    "search.best_estimator_"
   ]
  },
  {
   "cell_type": "code",
   "execution_count": 24,
   "metadata": {},
   "outputs": [
    {
     "data": {
      "text/plain": [
       "0.8309756144504109"
      ]
     },
     "execution_count": 24,
     "metadata": {},
     "output_type": "execute_result"
    }
   ],
   "source": [
    "# check the train accuracy\n",
    "search.best_score_"
   ]
  },
  {
   "cell_type": "code",
   "execution_count": 25,
   "metadata": {},
   "outputs": [
    {
     "data": {
      "text/plain": [
       "0.8302773326085541"
      ]
     },
     "execution_count": 25,
     "metadata": {},
     "output_type": "execute_result"
    }
   ],
   "source": [
    "# check the test accuracy\n",
    "search.best_estimator_.score(X_test,y_test)"
   ]
  },
  {
   "cell_type": "code",
   "execution_count": 26,
   "metadata": {},
   "outputs": [
    {
     "data": {
      "image/png": "[encoded data removed]",
      "text/plain": [
       "<Figure size 432x288 with 2 Axes>"
      ]
     },
     "metadata": {
      "needs_background": "light"
     },
     "output_type": "display_data"
    }
   ],
   "source": [
    "# plot the confusion matrix\n",
    "from sklearn.metrics import plot_confusion_matrix\n",
    "from matplotlib import pyplot as plt\n",
    "plot_confusion_matrix(search.best_estimator_, X_test, y_test)\n",
    "plt.show()"
   ]
  },
  {
   "cell_type": "markdown",
   "metadata": {},
   "source": [
    "This primitive model suffers a lot from data imbalance even after we specified weights. So you may need to find some other ways to reduce this negative effect in your assignments."
   ]
  },
  {
   "cell_type": "code",
   "execution_count": 22,
   "metadata": {},
   "outputs": [],
   "source": [
    "# use all the features\n",
    "from dask_ml.model_selection import train_test_split\n",
    "\n",
    "X_train, X_test, y_train, y_test=train_test_split(text_sparse_array,\n",
    "                                                  label_array,\n",
    "                                                  train_size=0.7,test_size=0.3,\n",
    "                                                  random_state=0)"
   ]
  },
  {
   "cell_type": "code",
   "execution_count": 23,
   "metadata": {},
   "outputs": [
    {
     "data": {
      "text/html": [
       "<table>\n",
       "<tr>\n",
       "<td>\n",
       "<table>\n",
       "  <thead>\n",
       "    <tr><td> </td><th> Array </th><th> Chunk </th></tr>\n",
       "  </thead>\n",
       "  <tbody>\n",
       "    <tr><th> Bytes </th><td> 7.43 GB </td> <td> 46.36 MB </td></tr>\n",
       "    <tr><th> Shape </th><td> (14508174, 64) </td> <td> (90538, 64) </td></tr>\n",
       "    <tr><th> Count </th><td> 2240 Tasks </td><td> 280 Chunks </td></tr>\n",
       "    <tr><th> Type </th><td> float64 </td><td> numpy.ndarray </td></tr>\n",
       "  </tbody>\n",
       "</table>\n",
       "</td>\n",
       "<td>\n",
       "<svg width=\"75\" height=\"170\" style=\"stroke:rgb(0,0,0);stroke-width:1\" >\n",
       "\n",
       "  <!-- Horizontal lines -->\n",
       "  <line x1=\"0\" y1=\"0\" x2=\"25\" y2=\"0\" style=\"stroke-width:2\" />\n",
       "  <line x1=\"0\" y1=\"6\" x2=\"25\" y2=\"6\" />\n",
       "  <line x1=\"0\" y1=\"12\" x2=\"25\" y2=\"12\" />\n",
       "  <line x1=\"0\" y1=\"19\" x2=\"25\" y2=\"19\" />\n",
       "  <line x1=\"0\" y1=\"25\" x2=\"25\" y2=\"25\" />\n",
       "  <line x1=\"0\" y1=\"31\" x2=\"25\" y2=\"31\" />\n",
       "  <line x1=\"0\" y1=\"37\" x2=\"25\" y2=\"37\" />\n",
       "  <line x1=\"0\" y1=\"44\" x2=\"25\" y2=\"44\" />\n",
       "  <line x1=\"0\" y1=\"50\" x2=\"25\" y2=\"50\" />\n",
       "  <line x1=\"0\" y1=\"56\" x2=\"25\" y2=\"56\" />\n",
       "  <line x1=\"0\" y1=\"63\" x2=\"25\" y2=\"63\" />\n",
       "  <line x1=\"0\" y1=\"69\" x2=\"25\" y2=\"69\" />\n",
       "  <line x1=\"0\" y1=\"76\" x2=\"25\" y2=\"76\" />\n",
       "  <line x1=\"0\" y1=\"81\" x2=\"25\" y2=\"81\" />\n",
       "  <line x1=\"0\" y1=\"89\" x2=\"25\" y2=\"89\" />\n",
       "  <line x1=\"0\" y1=\"94\" x2=\"25\" y2=\"94\" />\n",
       "  <line x1=\"0\" y1=\"101\" x2=\"25\" y2=\"101\" />\n",
       "  <line x1=\"0\" y1=\"107\" x2=\"25\" y2=\"107\" />\n",
       "  <line x1=\"0\" y1=\"114\" x2=\"25\" y2=\"114\" />\n",
       "  <line x1=\"0\" y1=\"120\" x2=\"25\" y2=\"120\" style=\"stroke-width:2\" />\n",
       "\n",
       "  <!-- Vertical lines -->\n",
       "  <line x1=\"0\" y1=\"0\" x2=\"0\" y2=\"120\" style=\"stroke-width:2\" />\n",
       "  <line x1=\"25\" y1=\"0\" x2=\"25\" y2=\"120\" style=\"stroke-width:2\" />\n",
       "\n",
       "  <!-- Colored Rectangle -->\n",
       "  <polygon points=\"0.0,0.0 25.412616514582485,0.0 25.412616514582485,120.0 0.0,120.0\" style=\"fill:#8B4903A0;stroke-width:0\"/>\n",
       "\n",
       "  <!-- Text -->\n",
       "  <text x=\"12.706308\" y=\"140.000000\" font-size=\"1.0rem\" font-weight=\"100\" text-anchor=\"middle\" >64</text>\n",
       "  <text x=\"45.412617\" y=\"60.000000\" font-size=\"1.0rem\" font-weight=\"100\" text-anchor=\"middle\" transform=\"rotate(-90,45.412617,60.000000)\">14508174</text>\n",
       "</svg>\n",
       "</td>\n",
       "</tr>\n",
       "</table>"
      ],
      "text/plain": [
       "dask.array<concatenate, shape=(14508174, 64), dtype=float64, chunksize=(90538, 64), chunktype=numpy.ndarray>"
      ]
     },
     "execution_count": 23,
     "metadata": {},
     "output_type": "execute_result"
    }
   ],
   "source": [
    "X_train"
   ]
  },
  {
   "cell_type": "code",
   "execution_count": 26,
   "metadata": {},
   "outputs": [
    {
     "data": {
      "text/plain": [
       "Incremental(estimator=SGDClassifier(class_weight={0: 1,\n",
       "                                                  1: 0.20441759716883276}),\n",
       "            scoring='accuracy')"
      ]
     },
     "execution_count": 26,
     "metadata": {},
     "output_type": "execute_result"
    }
   ],
   "source": [
    "from sklearn.linear_model import SGDClassifier\n",
    "import dask_ml\n",
    "\n",
    "sgd = SGDClassifier(class_weight={0:1,1:class_counts[0]/class_counts[1]})\n",
    "clf = dask_ml.wrappers.Incremental(\n",
    "    sgd, scoring='accuracy',\n",
    ")\n",
    "clf.fit(X_train,y_train, classes=[0, 1])"
   ]
  },
  {
   "cell_type": "code",
   "execution_count": 27,
   "metadata": {},
   "outputs": [
    {
     "data": {
      "text/plain": [
       "0.5948509440264502"
      ]
     },
     "execution_count": 27,
     "metadata": {},
     "output_type": "execute_result"
    }
   ],
   "source": [
    "clf.score(X_train,y_train)"
   ]
  },
  {
   "cell_type": "code",
   "execution_count": 28,
   "metadata": {},
   "outputs": [
    {
     "data": {
      "text/plain": [
       "0.5947751562604284"
      ]
     },
     "execution_count": 28,
     "metadata": {},
     "output_type": "execute_result"
    }
   ],
   "source": [
    "clf.score(X_test,y_test)"
   ]
  },
  {
   "cell_type": "code",
   "execution_count": 29,
   "metadata": {},
   "outputs": [],
   "source": [
    "X_test_array = X_test.compute().toarray()"
   ]
  },
  {
   "cell_type": "code",
   "execution_count": 30,
   "metadata": {},
   "outputs": [
    {
     "data": {
      "image/png": "[encoded data removed]",
      "text/plain": [
       "<Figure size 432x288 with 2 Axes>"
      ]
     },
     "metadata": {
      "needs_background": "light"
     },
     "output_type": "display_data"
    }
   ],
   "source": [
    "# plot the confusion matrix\n",
    "from sklearn.metrics import plot_confusion_matrix\n",
    "from matplotlib import pyplot as plt\n",
    "plot_confusion_matrix(clf.estimator_, X_test_array, y_test)\n",
    "plt.show()"
   ]
  },
  {
   "cell_type": "markdown",
   "metadata": {},
   "source": [
    "From the result here, we see that both of the two models have some drawbacks. Using the numerical (including categorical) features yield a result of high bias while using the pure text-based (review-body) features makes the overall accuracy very low. What about use both of these features? It's your turn to try! However, I have to notify you that the sparse matrix generated by the text vectors do not function well with many models, as it has some structural differences with ordinary arrays (like shape). So you might need to think about a feasible way to transfer the text vectors to normal numpy arrays and reload it to dask (This sounds somewhat inefficient, if you have better ideas, please let us know~).  "
   ]
  }
 ],
 "metadata": {
  "kernelspec": {
   "display_name": "Python 3",
   "language": "python",
   "name": "python3"
  },
  "language_info": {
   "codemirror_mode": {
    "name": "ipython",
    "version": 3
   },
   "file_extension": ".py",
   "mimetype": "text/x-python",
   "name": "python",
   "nbconvert_exporter": "python",
   "pygments_lexer": "ipython3",
   "version": "3.7.3"
  }
 },
 "nbformat": 4,
 "nbformat_minor": 4
}
